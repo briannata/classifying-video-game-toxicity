{
  "nbformat": 4,
  "nbformat_minor": 0,
  "metadata": {
    "colab": {
      "provenance": [],
      "gpuType": "T4"
    },
    "kernelspec": {
      "name": "python3",
      "display_name": "Python 3"
    },
    "language_info": {
      "name": "python"
    },
    "accelerator": "GPU"
  },
  "cells": [
    {
      "cell_type": "markdown",
      "source": [
        "# Setup"
      ],
      "metadata": {
        "id": "uH_5qR-6rd84"
      }
    },
    {
      "cell_type": "code",
      "execution_count": 1,
      "metadata": {
        "colab": {
          "base_uri": "https://localhost:8080/"
        },
        "id": "li1RpGOUl_ht",
        "outputId": "67070285-00d8-4048-8a6a-2f7aa4efb675"
      },
      "outputs": [
        {
          "output_type": "stream",
          "name": "stdout",
          "text": [
            "Collecting torchmetrics\n",
            "  Downloading torchmetrics-1.6.0-py3-none-any.whl.metadata (20 kB)\n",
            "Requirement already satisfied: numpy>1.20.0 in /usr/local/lib/python3.10/dist-packages (from torchmetrics) (1.26.4)\n",
            "Requirement already satisfied: packaging>17.1 in /usr/local/lib/python3.10/dist-packages (from torchmetrics) (24.2)\n",
            "Requirement already satisfied: torch>=2.0.0 in /usr/local/lib/python3.10/dist-packages (from torchmetrics) (2.5.1+cu121)\n",
            "Collecting lightning-utilities>=0.8.0 (from torchmetrics)\n",
            "  Downloading lightning_utilities-0.11.9-py3-none-any.whl.metadata (5.2 kB)\n",
            "Requirement already satisfied: setuptools in /usr/local/lib/python3.10/dist-packages (from lightning-utilities>=0.8.0->torchmetrics) (75.1.0)\n",
            "Requirement already satisfied: typing-extensions in /usr/local/lib/python3.10/dist-packages (from lightning-utilities>=0.8.0->torchmetrics) (4.12.2)\n",
            "Requirement already satisfied: filelock in /usr/local/lib/python3.10/dist-packages (from torch>=2.0.0->torchmetrics) (3.16.1)\n",
            "Requirement already satisfied: networkx in /usr/local/lib/python3.10/dist-packages (from torch>=2.0.0->torchmetrics) (3.4.2)\n",
            "Requirement already satisfied: jinja2 in /usr/local/lib/python3.10/dist-packages (from torch>=2.0.0->torchmetrics) (3.1.4)\n",
            "Requirement already satisfied: fsspec in /usr/local/lib/python3.10/dist-packages (from torch>=2.0.0->torchmetrics) (2024.10.0)\n",
            "Requirement already satisfied: sympy==1.13.1 in /usr/local/lib/python3.10/dist-packages (from torch>=2.0.0->torchmetrics) (1.13.1)\n",
            "Requirement already satisfied: mpmath<1.4,>=1.1.0 in /usr/local/lib/python3.10/dist-packages (from sympy==1.13.1->torch>=2.0.0->torchmetrics) (1.3.0)\n",
            "Requirement already satisfied: MarkupSafe>=2.0 in /usr/local/lib/python3.10/dist-packages (from jinja2->torch>=2.0.0->torchmetrics) (3.0.2)\n",
            "Downloading torchmetrics-1.6.0-py3-none-any.whl (926 kB)\n",
            "\u001b[2K   \u001b[90m━━━━━━━━━━━━━━━━━━━━━━━━━━━━━━━━━━━━━━━━\u001b[0m \u001b[32m926.4/926.4 kB\u001b[0m \u001b[31m23.1 MB/s\u001b[0m eta \u001b[36m0:00:00\u001b[0m\n",
            "\u001b[?25hDownloading lightning_utilities-0.11.9-py3-none-any.whl (28 kB)\n",
            "Installing collected packages: lightning-utilities, torchmetrics\n",
            "Successfully installed lightning-utilities-0.11.9 torchmetrics-1.6.0\n"
          ]
        }
      ],
      "source": [
        "!pip install torchmetrics"
      ]
    },
    {
      "cell_type": "code",
      "source": [
        "import torch\n",
        "from torch.utils.data import TensorDataset, DataLoader, RandomSampler, SequentialSampler\n",
        "from transformers import BertTokenizer, BertForSequenceClassification\n",
        "from transformers import GPT2Tokenizer, GPT2ForSequenceClassification, GPT2Config\n",
        "from sklearn.model_selection import train_test_split\n",
        "\n",
        "import pandas as pd\n",
        "import numpy as np\n",
        "import math\n",
        "\n",
        "from tabulate import tabulate\n",
        "from tqdm import trange\n",
        "import random\n",
        "from torchmetrics.classification import Recall, Accuracy, AUROC, Precision"
      ],
      "metadata": {
        "id": "VB9To9KTm22J"
      },
      "execution_count": 2,
      "outputs": []
    },
    {
      "cell_type": "code",
      "source": [
        "df = pd.read_csv('/content/combined.csv')\n",
        "\n",
        "dataset = df[['text', 'toxic']]\n",
        "dataset.head()"
      ],
      "metadata": {
        "colab": {
          "base_uri": "https://localhost:8080/",
          "height": 206
        },
        "id": "eI43RL7_m5rJ",
        "outputId": "50939530-367e-473c-d695-b145f1b2d9c8"
      },
      "execution_count": 4,
      "outputs": [
        {
          "output_type": "execute_result",
          "data": {
            "text/plain": [
              "                                                text  toxic\n",
              "0                                   real faker tweet      0\n",
              "1                                              Lmfao      0\n",
              "2  bruh, the best teemo player from my country is...      0\n",
              "3                me and nunu tiered 3 simped for adc      0\n",
              "4  yeah but i think since seraphine was released ...      0"
            ],
            "text/html": [
              "\n",
              "  <div id=\"df-a9ddae83-9c47-4d36-92c1-32305bdcf7aa\" class=\"colab-df-container\">\n",
              "    <div>\n",
              "<style scoped>\n",
              "    .dataframe tbody tr th:only-of-type {\n",
              "        vertical-align: middle;\n",
              "    }\n",
              "\n",
              "    .dataframe tbody tr th {\n",
              "        vertical-align: top;\n",
              "    }\n",
              "\n",
              "    .dataframe thead th {\n",
              "        text-align: right;\n",
              "    }\n",
              "</style>\n",
              "<table border=\"1\" class=\"dataframe\">\n",
              "  <thead>\n",
              "    <tr style=\"text-align: right;\">\n",
              "      <th></th>\n",
              "      <th>text</th>\n",
              "      <th>toxic</th>\n",
              "    </tr>\n",
              "  </thead>\n",
              "  <tbody>\n",
              "    <tr>\n",
              "      <th>0</th>\n",
              "      <td>real faker tweet</td>\n",
              "      <td>0</td>\n",
              "    </tr>\n",
              "    <tr>\n",
              "      <th>1</th>\n",
              "      <td>Lmfao</td>\n",
              "      <td>0</td>\n",
              "    </tr>\n",
              "    <tr>\n",
              "      <th>2</th>\n",
              "      <td>bruh, the best teemo player from my country is...</td>\n",
              "      <td>0</td>\n",
              "    </tr>\n",
              "    <tr>\n",
              "      <th>3</th>\n",
              "      <td>me and nunu tiered 3 simped for adc</td>\n",
              "      <td>0</td>\n",
              "    </tr>\n",
              "    <tr>\n",
              "      <th>4</th>\n",
              "      <td>yeah but i think since seraphine was released ...</td>\n",
              "      <td>0</td>\n",
              "    </tr>\n",
              "  </tbody>\n",
              "</table>\n",
              "</div>\n",
              "    <div class=\"colab-df-buttons\">\n",
              "\n",
              "  <div class=\"colab-df-container\">\n",
              "    <button class=\"colab-df-convert\" onclick=\"convertToInteractive('df-a9ddae83-9c47-4d36-92c1-32305bdcf7aa')\"\n",
              "            title=\"Convert this dataframe to an interactive table.\"\n",
              "            style=\"display:none;\">\n",
              "\n",
              "  <svg xmlns=\"http://www.w3.org/2000/svg\" height=\"24px\" viewBox=\"0 -960 960 960\">\n",
              "    <path d=\"M120-120v-720h720v720H120Zm60-500h600v-160H180v160Zm220 220h160v-160H400v160Zm0 220h160v-160H400v160ZM180-400h160v-160H180v160Zm440 0h160v-160H620v160ZM180-180h160v-160H180v160Zm440 0h160v-160H620v160Z\"/>\n",
              "  </svg>\n",
              "    </button>\n",
              "\n",
              "  <style>\n",
              "    .colab-df-container {\n",
              "      display:flex;\n",
              "      gap: 12px;\n",
              "    }\n",
              "\n",
              "    .colab-df-convert {\n",
              "      background-color: #E8F0FE;\n",
              "      border: none;\n",
              "      border-radius: 50%;\n",
              "      cursor: pointer;\n",
              "      display: none;\n",
              "      fill: #1967D2;\n",
              "      height: 32px;\n",
              "      padding: 0 0 0 0;\n",
              "      width: 32px;\n",
              "    }\n",
              "\n",
              "    .colab-df-convert:hover {\n",
              "      background-color: #E2EBFA;\n",
              "      box-shadow: 0px 1px 2px rgba(60, 64, 67, 0.3), 0px 1px 3px 1px rgba(60, 64, 67, 0.15);\n",
              "      fill: #174EA6;\n",
              "    }\n",
              "\n",
              "    .colab-df-buttons div {\n",
              "      margin-bottom: 4px;\n",
              "    }\n",
              "\n",
              "    [theme=dark] .colab-df-convert {\n",
              "      background-color: #3B4455;\n",
              "      fill: #D2E3FC;\n",
              "    }\n",
              "\n",
              "    [theme=dark] .colab-df-convert:hover {\n",
              "      background-color: #434B5C;\n",
              "      box-shadow: 0px 1px 3px 1px rgba(0, 0, 0, 0.15);\n",
              "      filter: drop-shadow(0px 1px 2px rgba(0, 0, 0, 0.3));\n",
              "      fill: #FFFFFF;\n",
              "    }\n",
              "  </style>\n",
              "\n",
              "    <script>\n",
              "      const buttonEl =\n",
              "        document.querySelector('#df-a9ddae83-9c47-4d36-92c1-32305bdcf7aa button.colab-df-convert');\n",
              "      buttonEl.style.display =\n",
              "        google.colab.kernel.accessAllowed ? 'block' : 'none';\n",
              "\n",
              "      async function convertToInteractive(key) {\n",
              "        const element = document.querySelector('#df-a9ddae83-9c47-4d36-92c1-32305bdcf7aa');\n",
              "        const dataTable =\n",
              "          await google.colab.kernel.invokeFunction('convertToInteractive',\n",
              "                                                    [key], {});\n",
              "        if (!dataTable) return;\n",
              "\n",
              "        const docLinkHtml = 'Like what you see? Visit the ' +\n",
              "          '<a target=\"_blank\" href=https://colab.research.google.com/notebooks/data_table.ipynb>data table notebook</a>'\n",
              "          + ' to learn more about interactive tables.';\n",
              "        element.innerHTML = '';\n",
              "        dataTable['output_type'] = 'display_data';\n",
              "        await google.colab.output.renderOutput(dataTable, element);\n",
              "        const docLink = document.createElement('div');\n",
              "        docLink.innerHTML = docLinkHtml;\n",
              "        element.appendChild(docLink);\n",
              "      }\n",
              "    </script>\n",
              "  </div>\n",
              "\n",
              "\n",
              "<div id=\"df-a63ad934-73c5-47ca-bfde-fe4ca40a7095\">\n",
              "  <button class=\"colab-df-quickchart\" onclick=\"quickchart('df-a63ad934-73c5-47ca-bfde-fe4ca40a7095')\"\n",
              "            title=\"Suggest charts\"\n",
              "            style=\"display:none;\">\n",
              "\n",
              "<svg xmlns=\"http://www.w3.org/2000/svg\" height=\"24px\"viewBox=\"0 0 24 24\"\n",
              "     width=\"24px\">\n",
              "    <g>\n",
              "        <path d=\"M19 3H5c-1.1 0-2 .9-2 2v14c0 1.1.9 2 2 2h14c1.1 0 2-.9 2-2V5c0-1.1-.9-2-2-2zM9 17H7v-7h2v7zm4 0h-2V7h2v10zm4 0h-2v-4h2v4z\"/>\n",
              "    </g>\n",
              "</svg>\n",
              "  </button>\n",
              "\n",
              "<style>\n",
              "  .colab-df-quickchart {\n",
              "      --bg-color: #E8F0FE;\n",
              "      --fill-color: #1967D2;\n",
              "      --hover-bg-color: #E2EBFA;\n",
              "      --hover-fill-color: #174EA6;\n",
              "      --disabled-fill-color: #AAA;\n",
              "      --disabled-bg-color: #DDD;\n",
              "  }\n",
              "\n",
              "  [theme=dark] .colab-df-quickchart {\n",
              "      --bg-color: #3B4455;\n",
              "      --fill-color: #D2E3FC;\n",
              "      --hover-bg-color: #434B5C;\n",
              "      --hover-fill-color: #FFFFFF;\n",
              "      --disabled-bg-color: #3B4455;\n",
              "      --disabled-fill-color: #666;\n",
              "  }\n",
              "\n",
              "  .colab-df-quickchart {\n",
              "    background-color: var(--bg-color);\n",
              "    border: none;\n",
              "    border-radius: 50%;\n",
              "    cursor: pointer;\n",
              "    display: none;\n",
              "    fill: var(--fill-color);\n",
              "    height: 32px;\n",
              "    padding: 0;\n",
              "    width: 32px;\n",
              "  }\n",
              "\n",
              "  .colab-df-quickchart:hover {\n",
              "    background-color: var(--hover-bg-color);\n",
              "    box-shadow: 0 1px 2px rgba(60, 64, 67, 0.3), 0 1px 3px 1px rgba(60, 64, 67, 0.15);\n",
              "    fill: var(--button-hover-fill-color);\n",
              "  }\n",
              "\n",
              "  .colab-df-quickchart-complete:disabled,\n",
              "  .colab-df-quickchart-complete:disabled:hover {\n",
              "    background-color: var(--disabled-bg-color);\n",
              "    fill: var(--disabled-fill-color);\n",
              "    box-shadow: none;\n",
              "  }\n",
              "\n",
              "  .colab-df-spinner {\n",
              "    border: 2px solid var(--fill-color);\n",
              "    border-color: transparent;\n",
              "    border-bottom-color: var(--fill-color);\n",
              "    animation:\n",
              "      spin 1s steps(1) infinite;\n",
              "  }\n",
              "\n",
              "  @keyframes spin {\n",
              "    0% {\n",
              "      border-color: transparent;\n",
              "      border-bottom-color: var(--fill-color);\n",
              "      border-left-color: var(--fill-color);\n",
              "    }\n",
              "    20% {\n",
              "      border-color: transparent;\n",
              "      border-left-color: var(--fill-color);\n",
              "      border-top-color: var(--fill-color);\n",
              "    }\n",
              "    30% {\n",
              "      border-color: transparent;\n",
              "      border-left-color: var(--fill-color);\n",
              "      border-top-color: var(--fill-color);\n",
              "      border-right-color: var(--fill-color);\n",
              "    }\n",
              "    40% {\n",
              "      border-color: transparent;\n",
              "      border-right-color: var(--fill-color);\n",
              "      border-top-color: var(--fill-color);\n",
              "    }\n",
              "    60% {\n",
              "      border-color: transparent;\n",
              "      border-right-color: var(--fill-color);\n",
              "    }\n",
              "    80% {\n",
              "      border-color: transparent;\n",
              "      border-right-color: var(--fill-color);\n",
              "      border-bottom-color: var(--fill-color);\n",
              "    }\n",
              "    90% {\n",
              "      border-color: transparent;\n",
              "      border-bottom-color: var(--fill-color);\n",
              "    }\n",
              "  }\n",
              "</style>\n",
              "\n",
              "  <script>\n",
              "    async function quickchart(key) {\n",
              "      const quickchartButtonEl =\n",
              "        document.querySelector('#' + key + ' button');\n",
              "      quickchartButtonEl.disabled = true;  // To prevent multiple clicks.\n",
              "      quickchartButtonEl.classList.add('colab-df-spinner');\n",
              "      try {\n",
              "        const charts = await google.colab.kernel.invokeFunction(\n",
              "            'suggestCharts', [key], {});\n",
              "      } catch (error) {\n",
              "        console.error('Error during call to suggestCharts:', error);\n",
              "      }\n",
              "      quickchartButtonEl.classList.remove('colab-df-spinner');\n",
              "      quickchartButtonEl.classList.add('colab-df-quickchart-complete');\n",
              "    }\n",
              "    (() => {\n",
              "      let quickchartButtonEl =\n",
              "        document.querySelector('#df-a63ad934-73c5-47ca-bfde-fe4ca40a7095 button');\n",
              "      quickchartButtonEl.style.display =\n",
              "        google.colab.kernel.accessAllowed ? 'block' : 'none';\n",
              "    })();\n",
              "  </script>\n",
              "</div>\n",
              "\n",
              "    </div>\n",
              "  </div>\n"
            ],
            "application/vnd.google.colaboratory.intrinsic+json": {
              "type": "dataframe",
              "variable_name": "dataset",
              "summary": "{\n  \"name\": \"dataset\",\n  \"rows\": 2945,\n  \"fields\": [\n    {\n      \"column\": \"text\",\n      \"properties\": {\n        \"dtype\": \"string\",\n        \"num_unique_values\": 2945,\n        \"samples\": [\n          \"massive brain\",\n          \"LUL LUL LUL LUL LUL\",\n          \"@adooool18 who don't like apple WutFace\"\n        ],\n        \"semantic_type\": \"\",\n        \"description\": \"\"\n      }\n    },\n    {\n      \"column\": \"toxic\",\n      \"properties\": {\n        \"dtype\": \"number\",\n        \"std\": 0,\n        \"min\": 0,\n        \"max\": 1,\n        \"num_unique_values\": 2,\n        \"samples\": [\n          1,\n          0\n        ],\n        \"semantic_type\": \"\",\n        \"description\": \"\"\n      }\n    }\n  ]\n}"
            }
          },
          "metadata": {},
          "execution_count": 4
        }
      ]
    },
    {
      "cell_type": "code",
      "source": [
        "import re\n",
        "import string\n",
        "\n",
        "# Remove punctuation, digits, and weird characters and convert words to lowercase\n",
        "def preprocess_text(text):\n",
        "    text = re.sub(r\"[^a-zA-Z\\s]\", \" \", text.lower())\n",
        "    return text\n",
        "\n",
        "# Preprocess text\n",
        "dataset.loc[:, 'cleaned_text'] = dataset['text'].apply(preprocess_text)"
      ],
      "metadata": {
        "colab": {
          "base_uri": "https://localhost:8080/"
        },
        "id": "4zriK22-uQmK",
        "outputId": "b447a757-ded7-4f39-cb2a-8976a13a2000"
      },
      "execution_count": 5,
      "outputs": [
        {
          "output_type": "stream",
          "name": "stderr",
          "text": [
            "<ipython-input-5-b17eac554e8a>:10: SettingWithCopyWarning: \n",
            "A value is trying to be set on a copy of a slice from a DataFrame.\n",
            "Try using .loc[row_indexer,col_indexer] = value instead\n",
            "\n",
            "See the caveats in the documentation: https://pandas.pydata.org/pandas-docs/stable/user_guide/indexing.html#returning-a-view-versus-a-copy\n",
            "  dataset.loc[:, 'cleaned_text'] = dataset['text'].apply(preprocess_text)\n"
          ]
        }
      ]
    },
    {
      "cell_type": "code",
      "source": [
        "text = dataset.cleaned_text.values\n",
        "labels = dataset.toxic.values"
      ],
      "metadata": {
        "id": "Dk1w_Qs-q1x8"
      },
      "execution_count": 6,
      "outputs": []
    },
    {
      "cell_type": "code",
      "source": [
        "import matplotlib.pyplot as plt\n",
        "import seaborn as sns\n",
        "import numpy as np\n",
        "\n",
        "plt.figure(figsize=(8, 6))\n",
        "sns.countplot(x=labels, palette=\"viridis\")\n",
        "\n",
        "plt.title(\"Distribution of Toxic (1) and Non-Toxic (0) Labels\")\n",
        "plt.xlabel(\"Labels\")\n",
        "plt.ylabel(\"Count\")\n",
        "plt.xticks(ticks=[0, 1], labels=[\"Non-Toxic (0)\", \"Toxic (1)\"])\n",
        "\n",
        "plt.show()"
      ],
      "metadata": {
        "colab": {
          "base_uri": "https://localhost:8080/",
          "height": 671
        },
        "id": "ATRlLz4rKRrv",
        "outputId": "8d859560-8655-4afe-84d9-013ed80222fc"
      },
      "execution_count": 7,
      "outputs": [
        {
          "output_type": "stream",
          "name": "stderr",
          "text": [
            "<ipython-input-7-ae162889f13e>:6: FutureWarning: \n",
            "\n",
            "Passing `palette` without assigning `hue` is deprecated and will be removed in v0.14.0. Assign the `x` variable to `hue` and set `legend=False` for the same effect.\n",
            "\n",
            "  sns.countplot(x=labels, palette=\"viridis\")\n"
          ]
        },
        {
          "output_type": "display_data",
          "data": {
            "text/plain": [
              "<Figure size 800x600 with 1 Axes>"
            ],
            "image/png": "[encoded data removed]"
          },
          "metadata": {}
        }
      ]
    },
    {
      "cell_type": "code",
      "source": [
        "# If on GPU, do as below\n",
        "device = torch.device('cuda' if torch.cuda.is_available() else 'cpu')"
      ],
      "metadata": {
        "id": "_yx1-KuHz-gD"
      },
      "execution_count": 8,
      "outputs": []
    },
    {
      "cell_type": "markdown",
      "source": [
        "# GPT2"
      ],
      "metadata": {
        "id": "hH0AScrSrb34"
      }
    },
    {
      "cell_type": "code",
      "source": [
        "# Set to the GPT2Tokenizer and set lower case to True\n",
        "tokenizer = GPT2Tokenizer.from_pretrained('gpt2')\n",
        "tokenizer.pad_token = tokenizer.eos_token\n",
        "# Set the padding to 'left' or 'right'?\n",
        "# Remember we want to use the last token's embedding to represent the entire sentence\n",
        "tokenizer.padding_side = 'left'"
      ],
      "metadata": {
        "id": "3tZAIbpNrZd3"
      },
      "execution_count": null,
      "outputs": []
    },
    {
      "cell_type": "code",
      "source": [
        "def print_rand_sentence():\n",
        "    '''Displays the tokens and respective IDs of a random text sample'''\n",
        "    index = random.randint(0, len(text)-1)\n",
        "    print(text[index])\n",
        "    table = np.array([tokenizer.tokenize(text[index]),\n",
        "                    tokenizer.convert_tokens_to_ids(tokenizer.tokenize(text[index]))]).T\n",
        "    print(tabulate(table,\n",
        "                 headers = ['Tokens', 'Token IDs'],\n",
        "                 tablefmt = 'fancy_grid'))\n",
        "\n",
        "print_rand_sentence()"
      ],
      "metadata": {
        "colab": {
          "base_uri": "https://localhost:8080/"
        },
        "id": "VSRUdOdRrlVc",
        "outputId": "aeee98df-fb32-4042-da77-5d9189045e93"
      },
      "execution_count": null,
      "outputs": [
        {
          "output_type": "stream",
          "name": "stdout",
          "text": [
            "this suck\n",
            "╒══════════╤═════════════╕\n",
            "│ Tokens   │   Token IDs │\n",
            "╞══════════╪═════════════╡\n",
            "│ this     │        5661 │\n",
            "├──────────┼─────────────┤\n",
            "│ Ġsuck    │       10110 │\n",
            "╘══════════╧═════════════╛\n"
          ]
        }
      ]
    },
    {
      "cell_type": "code",
      "source": [
        "token_id = []\n",
        "attention_masks = []\n",
        "\n",
        "def preprocessing(input_text, tokenizer):\n",
        "  '''\n",
        "  Returns <class transformers.tokenization_utils_base.BatchEncoding> with the following fields:\n",
        "    - input_ids: list of token ids\n",
        "    - token_type_ids: list of token type ids\n",
        "    - attention_mask: list of indices (0,1) specifying which tokens should considered by the model (return_attention_mask = True).\n",
        "  '''\n",
        "  # Use the tokenizer and the encode_plus methods to return the right data we'll need\n",
        "  # Set max_length = 32 and return_tokens = 'pt'\n",
        "  # Set other fields to the appropriate booleans needed\n",
        "  return tokenizer.encode_plus(\n",
        "      input_text,\n",
        "      max_length = 32,\n",
        "      pad_to_max_length = True,\n",
        "      return_attention_mask = True,\n",
        "      return_tensors = 'pt'\n",
        "  )\n",
        "\n",
        "\n",
        "for sample in text:\n",
        "    encoding_dict = preprocessing(sample, tokenizer)\n",
        "    token_id.append(encoding_dict['input_ids'])\n",
        "    attention_masks.append(encoding_dict['attention_mask'])\n",
        "\n",
        "\n",
        "# Gather all the torch_id, attention masks, and labels\n",
        "token_id = torch.cat(token_id, dim = 0)\n",
        "attention_masks = torch.cat(attention_masks, dim = 0)\n",
        "labels = torch.tensor(labels)"
      ],
      "metadata": {
        "colab": {
          "base_uri": "https://localhost:8080/"
        },
        "id": "vGxigeR7w7S-",
        "outputId": "433b7fe2-1a95-40b2-a828-ee5c1348599c"
      },
      "execution_count": null,
      "outputs": [
        {
          "output_type": "stream",
          "name": "stderr",
          "text": [
            "Truncation was not explicitly activated but `max_length` is provided a specific value, please use `truncation=True` to explicitly truncate examples to max length. Defaulting to 'longest_first' truncation strategy. If you encode pairs of sequences (GLUE-style) with the tokenizer you can select this strategy more precisely by providing a specific strategy to `truncation`.\n",
            "/usr/local/lib/python3.10/dist-packages/transformers/tokenization_utils_base.py:2834: FutureWarning: The `pad_to_max_length` argument is deprecated and will be removed in a future version, use `padding=True` or `padding='longest'` to pad to the longest sequence in the batch, or use `padding='max_length'` to pad to a max length. In this case, you can give a specific length with `max_length` (e.g. `max_length=45`) or leave max_length to None to pad to the maximal input size of the model (e.g. 512 for Bert).\n",
            "  warnings.warn(\n"
          ]
        }
      ]
    },
    {
      "cell_type": "code",
      "source": [
        "def print_rand_sentence_encoding():\n",
        "    '''Displays tokens, token IDs and attention mask of a random text sample'''\n",
        "    index = random.randint(0, len(text) - 1)\n",
        "    tokens = tokenizer.tokenize(tokenizer.decode(token_id[index]))\n",
        "    print(tokens)\n",
        "    token_ids = [i.numpy() for i in token_id[index]]\n",
        "    attention = [i.numpy() for i in attention_masks[index]]\n",
        "    table = np.array([tokens, token_ids, attention]).T\n",
        "    print(\n",
        "        tabulate(\n",
        "            table,\n",
        "            headers = ['Tokens', 'Token IDs', 'Attention Mask'],\n",
        "            tablefmt = 'fancy_grid')\n",
        "    )\n",
        "\n",
        "print_rand_sentence_encoding()"
      ],
      "metadata": {
        "colab": {
          "base_uri": "https://localhost:8080/"
        },
        "id": "XvTdzV0xwx6B",
        "outputId": "7162643f-4567-4aa0-8060-75e7d26db1ef"
      },
      "execution_count": null,
      "outputs": [
        {
          "output_type": "stream",
          "name": "stdout",
          "text": [
            "['<|endoftext|>', '<|endoftext|>', '<|endoftext|>', '<|endoftext|>', '<|endoftext|>', '<|endoftext|>', '<|endoftext|>', '<|endoftext|>', '<|endoftext|>', '<|endoftext|>', '<|endoftext|>', '<|endoftext|>', '<|endoftext|>', '<|endoftext|>', '<|endoftext|>', '<|endoftext|>', '<|endoftext|>', '<|endoftext|>', '<|endoftext|>', '<|endoftext|>', '<|endoftext|>', '<|endoftext|>', '<|endoftext|>', '<|endoftext|>', '<|endoftext|>', '<|endoftext|>', '<|endoftext|>', '<|endoftext|>', 'dan', 'uc', 'd', 'hide']\n",
            "╒═══════════════╤═════════════╤══════════════════╕\n",
            "│ Tokens        │   Token IDs │   Attention Mask │\n",
            "╞═══════════════╪═════════════╪══════════════════╡\n",
            "│ <|endoftext|> │       50256 │                0 │\n",
            "├───────────────┼─────────────┼──────────────────┤\n",
            "│ <|endoftext|> │       50256 │                0 │\n",
            "├───────────────┼─────────────┼──────────────────┤\n",
            "│ <|endoftext|> │       50256 │                0 │\n",
            "├───────────────┼─────────────┼──────────────────┤\n",
            "│ <|endoftext|> │       50256 │                0 │\n",
            "├───────────────┼─────────────┼──────────────────┤\n",
            "│ <|endoftext|> │       50256 │                0 │\n",
            "├───────────────┼─────────────┼──────────────────┤\n",
            "│ <|endoftext|> │       50256 │                0 │\n",
            "├───────────────┼─────────────┼──────────────────┤\n",
            "│ <|endoftext|> │       50256 │                0 │\n",
            "├───────────────┼─────────────┼──────────────────┤\n",
            "│ <|endoftext|> │       50256 │                0 │\n",
            "├───────────────┼─────────────┼──────────────────┤\n",
            "│ <|endoftext|> │       50256 │                0 │\n",
            "├───────────────┼─────────────┼──────────────────┤\n",
            "│ <|endoftext|> │       50256 │                0 │\n",
            "├───────────────┼─────────────┼──────────────────┤\n",
            "│ <|endoftext|> │       50256 │                0 │\n",
            "├───────────────┼─────────────┼──────────────────┤\n",
            "│ <|endoftext|> │       50256 │                0 │\n",
            "├───────────────┼─────────────┼──────────────────┤\n",
            "│ <|endoftext|> │       50256 │                0 │\n",
            "├───────────────┼─────────────┼──────────────────┤\n",
            "│ <|endoftext|> │       50256 │                0 │\n",
            "├───────────────┼─────────────┼──────────────────┤\n",
            "│ <|endoftext|> │       50256 │                0 │\n",
            "├───────────────┼─────────────┼──────────────────┤\n",
            "│ <|endoftext|> │       50256 │                0 │\n",
            "├───────────────┼─────────────┼──────────────────┤\n",
            "│ <|endoftext|> │       50256 │                0 │\n",
            "├───────────────┼─────────────┼──────────────────┤\n",
            "│ <|endoftext|> │       50256 │                0 │\n",
            "├───────────────┼─────────────┼──────────────────┤\n",
            "│ <|endoftext|> │       50256 │                0 │\n",
            "├───────────────┼─────────────┼──────────────────┤\n",
            "│ <|endoftext|> │       50256 │                0 │\n",
            "├───────────────┼─────────────┼──────────────────┤\n",
            "│ <|endoftext|> │       50256 │                0 │\n",
            "├───────────────┼─────────────┼──────────────────┤\n",
            "│ <|endoftext|> │       50256 │                0 │\n",
            "├───────────────┼─────────────┼──────────────────┤\n",
            "│ <|endoftext|> │       50256 │                0 │\n",
            "├───────────────┼─────────────┼──────────────────┤\n",
            "│ <|endoftext|> │       50256 │                0 │\n",
            "├───────────────┼─────────────┼──────────────────┤\n",
            "│ <|endoftext|> │       50256 │                0 │\n",
            "├───────────────┼─────────────┼──────────────────┤\n",
            "│ <|endoftext|> │       50256 │                0 │\n",
            "├───────────────┼─────────────┼──────────────────┤\n",
            "│ <|endoftext|> │       50256 │                0 │\n",
            "├───────────────┼─────────────┼──────────────────┤\n",
            "│ <|endoftext|> │       50256 │                0 │\n",
            "├───────────────┼─────────────┼──────────────────┤\n",
            "│ dan           │       25604 │                1 │\n",
            "├───────────────┼─────────────┼──────────────────┤\n",
            "│ uc            │        1229 │                1 │\n",
            "├───────────────┼─────────────┼──────────────────┤\n",
            "│ d             │          67 │                1 │\n",
            "├───────────────┼─────────────┼──────────────────┤\n",
            "│ hide          │       24717 │                1 │\n",
            "╘═══════════════╧═════════════╧══════════════════╛\n"
          ]
        }
      ]
    },
    {
      "cell_type": "code",
      "source": [
        "val_ratio = 0.2\n",
        "# Recommended batch size: 16, 32. See: https://arxiv.org/pdf/1810.04805.pdf\n",
        "batch_size = 32\n",
        "\n",
        "# Indices of the train and validation splits stratified by labels\n",
        "# Use train_test_split\n",
        "train_idx, val_idx = train_test_split(np.arange(len(labels)), test_size = val_ratio, shuffle = True, stratify = labels)\n",
        "\n",
        "# Train and validation sets\n",
        "# Set to TensorDataset\n",
        "train_set = TensorDataset(token_id[train_idx], attention_masks[train_idx], labels[train_idx])\n",
        "\n",
        "val_set = TensorDataset(token_id[val_idx], attention_masks[val_idx], labels[val_idx])\n",
        "\n",
        "# Prepare DataLoader\n",
        "train_dataloader = DataLoader(batch_size = batch_size, dataset = train_set, shuffle = True)\n",
        "\n",
        "validation_dataloader = DataLoader(batch_size = batch_size, dataset = val_set, shuffle = True)"
      ],
      "metadata": {
        "id": "GM3E2uWlrnG1"
      },
      "execution_count": null,
      "outputs": []
    },
    {
      "cell_type": "code",
      "source": [
        "# Load the GPT2 model\n",
        "# Do not ouput the attentions and all hidden states\n",
        "\n",
        "config = GPT2Config.from_pretrained('gpt2', output_attensions=False, output_hidden_states=False)\n",
        "\n",
        "# Set to 'gpt2' (the smallest GPT2 which is 120 M parameters)\n",
        "# Use the config above and set other labels as needed\n",
        "model = GPT2ForSequenceClassification.from_pretrained('gpt2', config = config)\n",
        "\n",
        "# Set the pad token id to the eos token id\n",
        "model.config.pad_token_id = tokenizer.eos_token_id\n",
        "\n",
        "# Recommended learning rates (Adam): 5e-5, 3e-5, 2e-5\n",
        "# See: https://arxiv.org/pdf/1810.04805.pdf\n",
        "optimizer = torch.optim.AdamW(\n",
        "    model.parameters(),\n",
        "    lr = 5e-5,\n",
        "    eps = 1e-08\n",
        ")"
      ],
      "metadata": {
        "colab": {
          "base_uri": "https://localhost:8080/"
        },
        "id": "EflJXdro2U_2",
        "outputId": "395349ed-937d-4546-b1ab-4851debf740a"
      },
      "execution_count": null,
      "outputs": [
        {
          "output_type": "stream",
          "name": "stderr",
          "text": [
            "Some weights of GPT2ForSequenceClassification were not initialized from the model checkpoint at gpt2 and are newly initialized: ['score.weight']\n",
            "You should probably TRAIN this model on a down-stream task to be able to use it for predictions and inference.\n"
          ]
        }
      ]
    },
    {
      "cell_type": "code",
      "source": [
        "model = model.to(device)\n",
        "\n",
        "# Recommended number of epochs: See: https://arxiv.org/pdf/1810.04805.pdf\n",
        "epochs = 3"
      ],
      "metadata": {
        "id": "IRvPc4b22Z0p"
      },
      "execution_count": null,
      "outputs": []
    },
    {
      "cell_type": "code",
      "source": [
        "# Print all the layers of this GPT2 model and the number of parameters per layer\n",
        "# If this is False, fine tune just the classifier layer and leave all other GPT2 parameters alone\n",
        "# If this is True, fine tune everything\n",
        "fine_tune = True\n",
        "\n",
        "total_parameters=0\n",
        "for name, param in model.named_parameters():\n",
        "    print(f\"Layer: {name} | Parameters: {param.numel()}\")\n",
        "    total_parameters += param.numel()\n",
        "\n",
        "\n",
        "# Turn off gradients using the above\n",
        "if not fine_tune:\n",
        "    for name, param in model.named_parameters():\n",
        "        if 'score' not in name:\n",
        "            param.requires_grad = False\n",
        "        else:\n",
        "            param.requires_grad = True\n",
        "else:\n",
        "    for name, param in model.named_parameters():\n",
        "        param.requires_grad = True\n",
        "print(total_parameters)\n",
        "assert(total_parameters == 124441344)"
      ],
      "metadata": {
        "colab": {
          "base_uri": "https://localhost:8080/"
        },
        "id": "FHQqwZRZ2dHO",
        "outputId": "1566104c-42fb-4b9d-f43c-bebb83af4e38"
      },
      "execution_count": null,
      "outputs": [
        {
          "output_type": "stream",
          "name": "stdout",
          "text": [
            "Layer: transformer.wte.weight | Parameters: 38597376\n",
            "Layer: transformer.wpe.weight | Parameters: 786432\n",
            "Layer: transformer.h.0.ln_1.weight | Parameters: 768\n",
            "Layer: transformer.h.0.ln_1.bias | Parameters: 768\n",
            "Layer: transformer.h.0.attn.c_attn.weight | Parameters: 1769472\n",
            "Layer: transformer.h.0.attn.c_attn.bias | Parameters: 2304\n",
            "Layer: transformer.h.0.attn.c_proj.weight | Parameters: 589824\n",
            "Layer: transformer.h.0.attn.c_proj.bias | Parameters: 768\n",
            "Layer: transformer.h.0.ln_2.weight | Parameters: 768\n",
            "Layer: transformer.h.0.ln_2.bias | Parameters: 768\n",
            "Layer: transformer.h.0.mlp.c_fc.weight | Parameters: 2359296\n",
            "Layer: transformer.h.0.mlp.c_fc.bias | Parameters: 3072\n",
            "Layer: transformer.h.0.mlp.c_proj.weight | Parameters: 2359296\n",
            "Layer: transformer.h.0.mlp.c_proj.bias | Parameters: 768\n",
            "Layer: transformer.h.1.ln_1.weight | Parameters: 768\n",
            "Layer: transformer.h.1.ln_1.bias | Parameters: 768\n",
            "Layer: transformer.h.1.attn.c_attn.weight | Parameters: 1769472\n",
            "Layer: transformer.h.1.attn.c_attn.bias | Parameters: 2304\n",
            "Layer: transformer.h.1.attn.c_proj.weight | Parameters: 589824\n",
            "Layer: transformer.h.1.attn.c_proj.bias | Parameters: 768\n",
            "Layer: transformer.h.1.ln_2.weight | Parameters: 768\n",
            "Layer: transformer.h.1.ln_2.bias | Parameters: 768\n",
            "Layer: transformer.h.1.mlp.c_fc.weight | Parameters: 2359296\n",
            "Layer: transformer.h.1.mlp.c_fc.bias | Parameters: 3072\n",
            "Layer: transformer.h.1.mlp.c_proj.weight | Parameters: 2359296\n",
            "Layer: transformer.h.1.mlp.c_proj.bias | Parameters: 768\n",
            "Layer: transformer.h.2.ln_1.weight | Parameters: 768\n",
            "Layer: transformer.h.2.ln_1.bias | Parameters: 768\n",
            "Layer: transformer.h.2.attn.c_attn.weight | Parameters: 1769472\n",
            "Layer: transformer.h.2.attn.c_attn.bias | Parameters: 2304\n",
            "Layer: transformer.h.2.attn.c_proj.weight | Parameters: 589824\n",
            "Layer: transformer.h.2.attn.c_proj.bias | Parameters: 768\n",
            "Layer: transformer.h.2.ln_2.weight | Parameters: 768\n",
            "Layer: transformer.h.2.ln_2.bias | Parameters: 768\n",
            "Layer: transformer.h.2.mlp.c_fc.weight | Parameters: 2359296\n",
            "Layer: transformer.h.2.mlp.c_fc.bias | Parameters: 3072\n",
            "Layer: transformer.h.2.mlp.c_proj.weight | Parameters: 2359296\n",
            "Layer: transformer.h.2.mlp.c_proj.bias | Parameters: 768\n",
            "Layer: transformer.h.3.ln_1.weight | Parameters: 768\n",
            "Layer: transformer.h.3.ln_1.bias | Parameters: 768\n",
            "Layer: transformer.h.3.attn.c_attn.weight | Parameters: 1769472\n",
            "Layer: transformer.h.3.attn.c_attn.bias | Parameters: 2304\n",
            "Layer: transformer.h.3.attn.c_proj.weight | Parameters: 589824\n",
            "Layer: transformer.h.3.attn.c_proj.bias | Parameters: 768\n",
            "Layer: transformer.h.3.ln_2.weight | Parameters: 768\n",
            "Layer: transformer.h.3.ln_2.bias | Parameters: 768\n",
            "Layer: transformer.h.3.mlp.c_fc.weight | Parameters: 2359296\n",
            "Layer: transformer.h.3.mlp.c_fc.bias | Parameters: 3072\n",
            "Layer: transformer.h.3.mlp.c_proj.weight | Parameters: 2359296\n",
            "Layer: transformer.h.3.mlp.c_proj.bias | Parameters: 768\n",
            "Layer: transformer.h.4.ln_1.weight | Parameters: 768\n",
            "Layer: transformer.h.4.ln_1.bias | Parameters: 768\n",
            "Layer: transformer.h.4.attn.c_attn.weight | Parameters: 1769472\n",
            "Layer: transformer.h.4.attn.c_attn.bias | Parameters: 2304\n",
            "Layer: transformer.h.4.attn.c_proj.weight | Parameters: 589824\n",
            "Layer: transformer.h.4.attn.c_proj.bias | Parameters: 768\n",
            "Layer: transformer.h.4.ln_2.weight | Parameters: 768\n",
            "Layer: transformer.h.4.ln_2.bias | Parameters: 768\n",
            "Layer: transformer.h.4.mlp.c_fc.weight | Parameters: 2359296\n",
            "Layer: transformer.h.4.mlp.c_fc.bias | Parameters: 3072\n",
            "Layer: transformer.h.4.mlp.c_proj.weight | Parameters: 2359296\n",
            "Layer: transformer.h.4.mlp.c_proj.bias | Parameters: 768\n",
            "Layer: transformer.h.5.ln_1.weight | Parameters: 768\n",
            "Layer: transformer.h.5.ln_1.bias | Parameters: 768\n",
            "Layer: transformer.h.5.attn.c_attn.weight | Parameters: 1769472\n",
            "Layer: transformer.h.5.attn.c_attn.bias | Parameters: 2304\n",
            "Layer: transformer.h.5.attn.c_proj.weight | Parameters: 589824\n",
            "Layer: transformer.h.5.attn.c_proj.bias | Parameters: 768\n",
            "Layer: transformer.h.5.ln_2.weight | Parameters: 768\n",
            "Layer: transformer.h.5.ln_2.bias | Parameters: 768\n",
            "Layer: transformer.h.5.mlp.c_fc.weight | Parameters: 2359296\n",
            "Layer: transformer.h.5.mlp.c_fc.bias | Parameters: 3072\n",
            "Layer: transformer.h.5.mlp.c_proj.weight | Parameters: 2359296\n",
            "Layer: transformer.h.5.mlp.c_proj.bias | Parameters: 768\n",
            "Layer: transformer.h.6.ln_1.weight | Parameters: 768\n",
            "Layer: transformer.h.6.ln_1.bias | Parameters: 768\n",
            "Layer: transformer.h.6.attn.c_attn.weight | Parameters: 1769472\n",
            "Layer: transformer.h.6.attn.c_attn.bias | Parameters: 2304\n",
            "Layer: transformer.h.6.attn.c_proj.weight | Parameters: 589824\n",
            "Layer: transformer.h.6.attn.c_proj.bias | Parameters: 768\n",
            "Layer: transformer.h.6.ln_2.weight | Parameters: 768\n",
            "Layer: transformer.h.6.ln_2.bias | Parameters: 768\n",
            "Layer: transformer.h.6.mlp.c_fc.weight | Parameters: 2359296\n",
            "Layer: transformer.h.6.mlp.c_fc.bias | Parameters: 3072\n",
            "Layer: transformer.h.6.mlp.c_proj.weight | Parameters: 2359296\n",
            "Layer: transformer.h.6.mlp.c_proj.bias | Parameters: 768\n",
            "Layer: transformer.h.7.ln_1.weight | Parameters: 768\n",
            "Layer: transformer.h.7.ln_1.bias | Parameters: 768\n",
            "Layer: transformer.h.7.attn.c_attn.weight | Parameters: 1769472\n",
            "Layer: transformer.h.7.attn.c_attn.bias | Parameters: 2304\n",
            "Layer: transformer.h.7.attn.c_proj.weight | Parameters: 589824\n",
            "Layer: transformer.h.7.attn.c_proj.bias | Parameters: 768\n",
            "Layer: transformer.h.7.ln_2.weight | Parameters: 768\n",
            "Layer: transformer.h.7.ln_2.bias | Parameters: 768\n",
            "Layer: transformer.h.7.mlp.c_fc.weight | Parameters: 2359296\n",
            "Layer: transformer.h.7.mlp.c_fc.bias | Parameters: 3072\n",
            "Layer: transformer.h.7.mlp.c_proj.weight | Parameters: 2359296\n",
            "Layer: transformer.h.7.mlp.c_proj.bias | Parameters: 768\n",
            "Layer: transformer.h.8.ln_1.weight | Parameters: 768\n",
            "Layer: transformer.h.8.ln_1.bias | Parameters: 768\n",
            "Layer: transformer.h.8.attn.c_attn.weight | Parameters: 1769472\n",
            "Layer: transformer.h.8.attn.c_attn.bias | Parameters: 2304\n",
            "Layer: transformer.h.8.attn.c_proj.weight | Parameters: 589824\n",
            "Layer: transformer.h.8.attn.c_proj.bias | Parameters: 768\n",
            "Layer: transformer.h.8.ln_2.weight | Parameters: 768\n",
            "Layer: transformer.h.8.ln_2.bias | Parameters: 768\n",
            "Layer: transformer.h.8.mlp.c_fc.weight | Parameters: 2359296\n",
            "Layer: transformer.h.8.mlp.c_fc.bias | Parameters: 3072\n",
            "Layer: transformer.h.8.mlp.c_proj.weight | Parameters: 2359296\n",
            "Layer: transformer.h.8.mlp.c_proj.bias | Parameters: 768\n",
            "Layer: transformer.h.9.ln_1.weight | Parameters: 768\n",
            "Layer: transformer.h.9.ln_1.bias | Parameters: 768\n",
            "Layer: transformer.h.9.attn.c_attn.weight | Parameters: 1769472\n",
            "Layer: transformer.h.9.attn.c_attn.bias | Parameters: 2304\n",
            "Layer: transformer.h.9.attn.c_proj.weight | Parameters: 589824\n",
            "Layer: transformer.h.9.attn.c_proj.bias | Parameters: 768\n",
            "Layer: transformer.h.9.ln_2.weight | Parameters: 768\n",
            "Layer: transformer.h.9.ln_2.bias | Parameters: 768\n",
            "Layer: transformer.h.9.mlp.c_fc.weight | Parameters: 2359296\n",
            "Layer: transformer.h.9.mlp.c_fc.bias | Parameters: 3072\n",
            "Layer: transformer.h.9.mlp.c_proj.weight | Parameters: 2359296\n",
            "Layer: transformer.h.9.mlp.c_proj.bias | Parameters: 768\n",
            "Layer: transformer.h.10.ln_1.weight | Parameters: 768\n",
            "Layer: transformer.h.10.ln_1.bias | Parameters: 768\n",
            "Layer: transformer.h.10.attn.c_attn.weight | Parameters: 1769472\n",
            "Layer: transformer.h.10.attn.c_attn.bias | Parameters: 2304\n",
            "Layer: transformer.h.10.attn.c_proj.weight | Parameters: 589824\n",
            "Layer: transformer.h.10.attn.c_proj.bias | Parameters: 768\n",
            "Layer: transformer.h.10.ln_2.weight | Parameters: 768\n",
            "Layer: transformer.h.10.ln_2.bias | Parameters: 768\n",
            "Layer: transformer.h.10.mlp.c_fc.weight | Parameters: 2359296\n",
            "Layer: transformer.h.10.mlp.c_fc.bias | Parameters: 3072\n",
            "Layer: transformer.h.10.mlp.c_proj.weight | Parameters: 2359296\n",
            "Layer: transformer.h.10.mlp.c_proj.bias | Parameters: 768\n",
            "Layer: transformer.h.11.ln_1.weight | Parameters: 768\n",
            "Layer: transformer.h.11.ln_1.bias | Parameters: 768\n",
            "Layer: transformer.h.11.attn.c_attn.weight | Parameters: 1769472\n",
            "Layer: transformer.h.11.attn.c_attn.bias | Parameters: 2304\n",
            "Layer: transformer.h.11.attn.c_proj.weight | Parameters: 589824\n",
            "Layer: transformer.h.11.attn.c_proj.bias | Parameters: 768\n",
            "Layer: transformer.h.11.ln_2.weight | Parameters: 768\n",
            "Layer: transformer.h.11.ln_2.bias | Parameters: 768\n",
            "Layer: transformer.h.11.mlp.c_fc.weight | Parameters: 2359296\n",
            "Layer: transformer.h.11.mlp.c_fc.bias | Parameters: 3072\n",
            "Layer: transformer.h.11.mlp.c_proj.weight | Parameters: 2359296\n",
            "Layer: transformer.h.11.mlp.c_proj.bias | Parameters: 768\n",
            "Layer: transformer.ln_f.weight | Parameters: 768\n",
            "Layer: transformer.ln_f.bias | Parameters: 768\n",
            "Layer: score.weight | Parameters: 1536\n",
            "124441344\n"
          ]
        }
      ]
    },
    {
      "cell_type": "code",
      "source": [
        "# Use torchmetrics to set up accuracy, recall, precision, and auroc\n",
        "accuracy = Accuracy(task=\"binary\")\n",
        "recall = Recall(task=\"binary\")\n",
        "precision = Precision(task=\"binary\")\n",
        "auroc = AUROC(task=\"binary\")"
      ],
      "metadata": {
        "id": "G_hrrIAe2f-e"
      },
      "execution_count": null,
      "outputs": []
    },
    {
      "cell_type": "code",
      "source": [
        "# Main training / validation loop\n",
        "for _ in trange(epochs, desc = 'Epoch'):\n",
        "\n",
        "    # ========== Training ==========\n",
        "\n",
        "    # Set model to training mode\n",
        "    model.train()\n",
        "\n",
        "    # Tracking variables\n",
        "    tr_loss = 0\n",
        "    nb_tr_examples, nb_tr_steps = 0, 0\n",
        "\n",
        "    for step, batch in enumerate(train_dataloader):\n",
        "        # Put each element of batch onto the device\n",
        "        batch = tuple(t.to(device) for t in batch)\n",
        "\n",
        "        # Unpack the batch\n",
        "        b_input_ids, b_input_mask, b_labels = batch\n",
        "\n",
        "        # Set gradients to zero\n",
        "        optimizer.zero_grad()\n",
        "\n",
        "        # Forward pass\n",
        "        train_output = model(b_input_ids, token_type_ids=None, attention_mask=b_input_mask, labels=b_labels)\n",
        "\n",
        "        # Backward pass\n",
        "        train_output.loss.backward()\n",
        "        optimizer.step()\n",
        "\n",
        "        # Update tracking variables\n",
        "        tr_loss += train_output.loss.item()\n",
        "        nb_tr_examples += b_input_ids.size(0)\n",
        "        nb_tr_steps += 1\n",
        "\n",
        "    # ========== Validation ==========\n",
        "\n",
        "    # Set model to evaluation mode\n",
        "    model.eval()\n",
        "\n",
        "    # Tracking variables\n",
        "    val_accuracy = []\n",
        "    val_precision = []\n",
        "    val_recall = []\n",
        "    val_auroc = []\n",
        "\n",
        "    for batch in validation_dataloader:\n",
        "        batch = tuple(t.to(device) for t in batch)\n",
        "\n",
        "        # Unpack the batch\n",
        "        b_input_ids, b_input_mask, b_labels = batch\n",
        "\n",
        "        with torch.no_grad():\n",
        "          # Forward pass\n",
        "            eval_output = model(b_input_ids, token_type_ids=None, attention_mask=b_input_mask)\n",
        "\n",
        "        # Calculate validation metrics\n",
        "        labels = b_labels.cpu()\n",
        "        predicted_labels = torch.argmax(eval_output.logits, dim=1).cpu()\n",
        "\n",
        "        val_accuracy.append(accuracy(predicted_labels, labels))\n",
        "        val_recall.append(recall(predicted_labels, labels))\n",
        "        val_precision.append(precision(predicted_labels, labels))\n",
        "        val_auroc.append(auroc(predicted_labels, labels))\n",
        "\n",
        "    print('\\n\\t - Train loss: {:.4f}'.format(tr_loss / nb_tr_steps))\n",
        "    print('\\t - Validation Accuracy: {:.4f}'.format(sum(val_accuracy)/len(val_accuracy)))\n",
        "    print('\\t - Validation Precision: {:.4f}'.format(sum(val_precision)/len(val_precision)))\n",
        "    print('\\t - Validation Recall: {:.4f}'.format(sum(val_recall)/len(val_recall)))\n",
        "    print('\\t - Validation AUROC: {:.4f}\\n'.format(sum(val_auroc)/len(val_auroc)))"
      ],
      "metadata": {
        "colab": {
          "base_uri": "https://localhost:8080/"
        },
        "id": "kEYuRJ4_2iG4",
        "outputId": "f23af4a8-1ef2-4552-b7ba-0da041b79eb8"
      },
      "execution_count": null,
      "outputs": [
        {
          "output_type": "stream",
          "name": "stderr",
          "text": [
            "Epoch:  33%|███▎      | 1/3 [00:17<00:35, 17.70s/it]"
          ]
        },
        {
          "output_type": "stream",
          "name": "stdout",
          "text": [
            "\n",
            "\t - Train loss: 0.4728\n",
            "\t - Validation Accuracy: 0.8974\n",
            "\t - Validation Precision: 0.7734\n",
            "\t - Validation Recall: 0.7334\n",
            "\t - Validation AUROC: 0.8364\n",
            "\n"
          ]
        },
        {
          "output_type": "stream",
          "name": "stderr",
          "text": [
            "\rEpoch:  67%|██████▋   | 2/3 [00:34<00:17, 17.43s/it]"
          ]
        },
        {
          "output_type": "stream",
          "name": "stdout",
          "text": [
            "\n",
            "\t - Train loss: 0.2587\n",
            "\t - Validation Accuracy: 0.9047\n",
            "\t - Validation Precision: 0.7034\n",
            "\t - Validation Recall: 0.7975\n",
            "\t - Validation AUROC: 0.8621\n",
            "\n"
          ]
        },
        {
          "output_type": "stream",
          "name": "stderr",
          "text": [
            "Epoch: 100%|██████████| 3/3 [00:51<00:00, 17.23s/it]"
          ]
        },
        {
          "output_type": "stream",
          "name": "stdout",
          "text": [
            "\n",
            "\t - Train loss: 0.2072\n",
            "\t - Validation Accuracy: 0.9154\n",
            "\t - Validation Precision: 0.7048\n",
            "\t - Validation Recall: 0.7995\n",
            "\t - Validation AUROC: 0.8686\n",
            "\n"
          ]
        },
        {
          "output_type": "stream",
          "name": "stderr",
          "text": [
            "\n"
          ]
        }
      ]
    },
    {
      "cell_type": "code",
      "source": [
        "import matplotlib.pyplot as plt\n",
        "epochs = range(1, len(val_accuracy) + 1)\n",
        "\n",
        "plt.figure(figsize=(10, 6))\n",
        "\n",
        "# Plot each metric\n",
        "plt.plot(epochs, val_accuracy, label=\"Validation Accuracy\", color='b', marker='o')\n",
        "plt.plot(epochs, val_recall, label=\"Validation Recall\", color='g', marker='x')\n",
        "plt.plot(epochs, val_precision, label=\"Validation Precision\", color='r', marker='s')\n",
        "plt.plot(epochs, val_auroc, label=\"Validation AUROC\", color='purple', marker='^')\n",
        "\n",
        "# Add labels and title\n",
        "plt.xlabel('Batches')\n",
        "plt.ylabel('Metric Value')\n",
        "plt.title('GPT2 Fine-Tuning Validation Metrics over Epochs')\n",
        "\n",
        "# Add a legend\n",
        "plt.legend()\n",
        "\n",
        "# Display the plot\n",
        "plt.grid(True)\n",
        "plt.tight_layout()\n",
        "plt.show()"
      ],
      "metadata": {
        "colab": {
          "base_uri": "https://localhost:8080/",
          "height": 607
        },
        "id": "Y5GPe7y54Mbw",
        "outputId": "0bbeb08f-4a8e-40f0-9e27-fd179305d522"
      },
      "execution_count": null,
      "outputs": [
        {
          "output_type": "display_data",
          "data": {
            "text/plain": [
              "<Figure size 1000x600 with 1 Axes>"
            ],
            "image/png": "[encoded data removed]"
          },
          "metadata": {}
        }
      ]
    },
    {
      "cell_type": "code",
      "source": [
        "new_sentence = 'unbelievable how shit some people in this game are.\t'\n",
        "\n",
        "# We need Token IDs and Attention Mask for inference on the new sentence\n",
        "test_ids = []\n",
        "test_attention_mask = []\n",
        "\n",
        "# Apply the tokenizer\n",
        "encoding = preprocessing(new_sentence, tokenizer)\n",
        "\n",
        "# Extract IDs and Attention Mask\n",
        "test_ids.append(encoding['input_ids'])\n",
        "test_attention_mask.append(encoding['attention_mask'])\n",
        "test_ids = torch.cat(test_ids, dim = 0)\n",
        "test_attention_mask = torch.cat(test_attention_mask, dim = 0)\n",
        "\n",
        "# Forward pass, calculate logit predictions\n",
        "with torch.no_grad():\n",
        "    output = model(test_ids.to(device), token_type_ids = None, attention_mask = test_attention_mask.to(device))\n",
        "\n",
        "prediction = 'Toxic' if np.argmax(output.logits.cpu().numpy()).flatten().item() == 1 else 'Not Toxic'\n",
        "\n",
        "print('Input Sentence: ', new_sentence)\n",
        "print('Predicted Class: ', prediction)"
      ],
      "metadata": {
        "colab": {
          "base_uri": "https://localhost:8080/"
        },
        "id": "BKFklu9M3CSn",
        "outputId": "0b732236-1fef-4010-fbb0-cff7c2358881"
      },
      "execution_count": null,
      "outputs": [
        {
          "output_type": "stream",
          "name": "stdout",
          "text": [
            "Input Sentence:  unbelievable how shit some people in this game are.\t\n",
            "Predicted Class:  Toxic\n"
          ]
        },
        {
          "output_type": "stream",
          "name": "stderr",
          "text": [
            "/usr/local/lib/python3.10/dist-packages/transformers/tokenization_utils_base.py:2834: FutureWarning: The `pad_to_max_length` argument is deprecated and will be removed in a future version, use `padding=True` or `padding='longest'` to pad to the longest sequence in the batch, or use `padding='max_length'` to pad to a max length. In this case, you can give a specific length with `max_length` (e.g. `max_length=45`) or leave max_length to None to pad to the maximal input size of the model (e.g. 512 for Bert).\n",
            "  warnings.warn(\n"
          ]
        }
      ]
    },
    {
      "cell_type": "markdown",
      "source": [
        "**GPT Without Fine-Tuning**\n",
        "\n",
        "Epoch 1:\n",
        "- Train loss: 1.2015\n",
        "- Validation Accuracy: 0.7435\n",
        "- Validation Precision: 0.2391\n",
        "- Validation Recall: 0.1460\n",
        "- Validation AUROC: 0.5150\n",
        "\n",
        "Epoch 2:\n",
        "- Train loss: 0.6408\n",
        "- Validation Accuracy: 0.8010\n",
        "- Validation Precision: 0.0526\n",
        "- Validation Recall: 0.0175\n",
        "- Validation AUROC: 0.4716\n",
        "\n",
        "Epoch 3:\n",
        "- Train loss: 0.6099\n",
        "- Validation Accuracy: 0.7923\n",
        "- Validation Precision: 0.0526\n",
        "- Validation Recall: 0.0088\n",
        "- Validation AUROC: 0.4966\n",
        "\n",
        "Correct Identification:\n",
        "\n",
        "Input Sentence:  unbelievable how shit some people in this game are.\n",
        "Predicted Class:  Toxic"
      ],
      "metadata": {
        "id": "DpOVQCnf5iZ8"
      }
    },
    {
      "cell_type": "markdown",
      "source": [
        "**GPT With Fine-Tuning**\n",
        "\n",
        "Epoch 1:\n",
        "- Train loss: 0.4851\n",
        "- Validation Accuracy: 0.8947\n",
        "- Validation Precision: 0.7043\n",
        "- Validation Recall: 0.7514\n",
        "- Validation AUROC: 0.8406\n",
        "\n",
        "Epoch 2:\n",
        "- Train loss: 0.2705\n",
        "- Validation Accuracy: 0.9146\n",
        "- Validation Precision: 0.7342\n",
        "- Validation Recall: 0.8857\n",
        "- Validation AUROC: 0.9035\n",
        "\n",
        "Epoch 3:\n",
        "- Train loss: 0.2291\n",
        "- Validation Accuracy: 0.9260\n",
        "- Validation Precision: 0.7614\n",
        "- Validation Recall: 0.9103\n",
        "- Validation AUROC: 0.9199\n",
        "\n",
        "\n",
        "Correct Identification:\n",
        "\n",
        "Input Sentence:  unbelievable how shit some people in this game are.\n",
        "Predicted Class:  Toxic"
      ],
      "metadata": {
        "id": "5lxmpnBe3-M0"
      }
    },
    {
      "cell_type": "markdown",
      "source": [
        "# BERT"
      ],
      "metadata": {
        "id": "RPT3c4iU3QAh"
      }
    },
    {
      "cell_type": "code",
      "source": [
        "# Get the bert-base-uncased tokenizer and set lower case to True\n",
        "tokenizer = BertTokenizer.from_pretrained(\"bert-base-uncased\", do_lower_case=True)"
      ],
      "metadata": {
        "id": "Vki939N23QlU"
      },
      "execution_count": null,
      "outputs": []
    },
    {
      "cell_type": "code",
      "source": [
        "def print_rand_sentence():\n",
        "    '''Displays the tokens and respective IDs of a random text sample'''\n",
        "    index = random.randint(0, len(text)-1)\n",
        "    table = np.array([tokenizer.tokenize(text[index]),\n",
        "                    tokenizer.convert_tokens_to_ids(tokenizer.tokenize(text[index]))]).T\n",
        "    print(tabulate(table,\n",
        "                 headers = ['Tokens', 'Token IDs'],\n",
        "                 tablefmt = 'fancy_grid'))\n",
        "\n",
        "print_rand_sentence()"
      ],
      "metadata": {
        "colab": {
          "base_uri": "https://localhost:8080/"
        },
        "id": "CdCRxfjx3UVv",
        "outputId": "f03202fc-d840-4f93-996f-d49e8390b2e6"
      },
      "execution_count": null,
      "outputs": [
        {
          "output_type": "stream",
          "name": "stdout",
          "text": [
            "╒══════════╤═════════════╕\n",
            "│ Tokens   │   Token IDs │\n",
            "╞══════════╪═════════════╡\n",
            "│ o        │        1051 │\n",
            "├──────────┼─────────────┤\n",
            "│ ga       │       11721 │\n",
            "├──────────┼─────────────┤\n",
            "│ ##val    │       10175 │\n",
            "├──────────┼─────────────┤\n",
            "│ ##las    │        8523 │\n",
            "├──────────┼─────────────┤\n",
            "│ you      │        2017 │\n",
            "├──────────┼─────────────┤\n",
            "│ should   │        2323 │\n",
            "├──────────┼─────────────┤\n",
            "│ be       │        2022 │\n",
            "├──────────┼─────────────┤\n",
            "│ able     │        2583 │\n",
            "├──────────┼─────────────┤\n",
            "│ to       │        2000 │\n",
            "├──────────┼─────────────┤\n",
            "│ ##a      │        2050 │\n",
            "╘══════════╧═════════════╛\n"
          ]
        }
      ]
    },
    {
      "cell_type": "code",
      "source": [
        "token_id = []\n",
        "attention_masks = []\n",
        "\n",
        "def preprocessing(input_text, tokenizer):\n",
        "  '''\n",
        "  Returns <class transformers.tokenization_utils_base.BatchEncoding> with the following fields:\n",
        "    - input_ids: list of token ids\n",
        "    - token_type_ids: list of token type ids\n",
        "    - attention_mask: list of indices (0,1) specifying which tokens should considered by the model (return_attention_mask = True).\n",
        "  '''\n",
        "  return tokenizer.encode_plus(\n",
        "        input_text,\n",
        "        add_special_tokens=True,\n",
        "        max_length=32,\n",
        "        padding=\"max_length\",\n",
        "        truncation=True,\n",
        "        return_attention_mask=True,\n",
        "        return_tensors=\"pt\"\n",
        "    )\n",
        "\n",
        "\n",
        "for sample in text:\n",
        "    encoding_dict = preprocessing(sample, tokenizer)\n",
        "    token_id.append(encoding_dict['input_ids'])\n",
        "    attention_masks.append(encoding_dict['attention_mask'])\n",
        "\n",
        "\n",
        "token_id = torch.cat(token_id, dim=0)\n",
        "attention_masks = torch.cat(attention_masks, dim=0)\n",
        "labels = torch.tensor(labels)"
      ],
      "metadata": {
        "id": "uPVJ5cXw3VW0"
      },
      "execution_count": null,
      "outputs": []
    },
    {
      "cell_type": "code",
      "source": [
        "def print_rand_sentence_encoding():\n",
        "    '''Displays tokens, token IDs and attention mask of a random text sample'''\n",
        "    index = random.randint(0, len(text) - 1)\n",
        "    tokens = tokenizer.tokenize(tokenizer.decode(token_id[index]))\n",
        "    token_ids = [i.numpy() for i in token_id[index]]\n",
        "    attention = [i.numpy() for i in attention_masks[index]]\n",
        "    table = np.array([tokens, token_ids, attention]).T\n",
        "    print(\n",
        "        tabulate(\n",
        "            table,\n",
        "            headers = ['Tokens', 'Token IDs', 'Attention Mask'],\n",
        "            tablefmt = 'fancy_grid')\n",
        "    )\n",
        "\n",
        "print_rand_sentence_encoding()"
      ],
      "metadata": {
        "colab": {
          "base_uri": "https://localhost:8080/"
        },
        "id": "lQYnFGm93Wmw",
        "outputId": "d5963c17-6948-4033-e3f4-470841b8f8b6"
      },
      "execution_count": null,
      "outputs": [
        {
          "output_type": "stream",
          "name": "stdout",
          "text": [
            "╒══════════╤═════════════╤══════════════════╕\n",
            "│ Tokens   │   Token IDs │   Attention Mask │\n",
            "╞══════════╪═════════════╪══════════════════╡\n",
            "│ [CLS]    │         101 │                1 │\n",
            "├──────────┼─────────────┼──────────────────┤\n",
            "│ lu       │       11320 │                1 │\n",
            "├──────────┼─────────────┼──────────────────┤\n",
            "│ ##l      │        2140 │                1 │\n",
            "├──────────┼─────────────┼──────────────────┤\n",
            "│ lu       │       11320 │                1 │\n",
            "├──────────┼─────────────┼──────────────────┤\n",
            "│ ##l      │        2140 │                1 │\n",
            "├──────────┼─────────────┼──────────────────┤\n",
            "│ lu       │       11320 │                1 │\n",
            "├──────────┼─────────────┼──────────────────┤\n",
            "│ ##l      │        2140 │                1 │\n",
            "├──────────┼─────────────┼──────────────────┤\n",
            "│ lu       │       11320 │                1 │\n",
            "├──────────┼─────────────┼──────────────────┤\n",
            "│ ##l      │        2140 │                1 │\n",
            "├──────────┼─────────────┼──────────────────┤\n",
            "│ [SEP]    │         102 │                1 │\n",
            "├──────────┼─────────────┼──────────────────┤\n",
            "│ [PAD]    │           0 │                0 │\n",
            "├──────────┼─────────────┼──────────────────┤\n",
            "│ [PAD]    │           0 │                0 │\n",
            "├──────────┼─────────────┼──────────────────┤\n",
            "│ [PAD]    │           0 │                0 │\n",
            "├──────────┼─────────────┼──────────────────┤\n",
            "│ [PAD]    │           0 │                0 │\n",
            "├──────────┼─────────────┼──────────────────┤\n",
            "│ [PAD]    │           0 │                0 │\n",
            "├──────────┼─────────────┼──────────────────┤\n",
            "│ [PAD]    │           0 │                0 │\n",
            "├──────────┼─────────────┼──────────────────┤\n",
            "│ [PAD]    │           0 │                0 │\n",
            "├──────────┼─────────────┼──────────────────┤\n",
            "│ [PAD]    │           0 │                0 │\n",
            "├──────────┼─────────────┼──────────────────┤\n",
            "│ [PAD]    │           0 │                0 │\n",
            "├──────────┼─────────────┼──────────────────┤\n",
            "│ [PAD]    │           0 │                0 │\n",
            "├──────────┼─────────────┼──────────────────┤\n",
            "│ [PAD]    │           0 │                0 │\n",
            "├──────────┼─────────────┼──────────────────┤\n",
            "│ [PAD]    │           0 │                0 │\n",
            "├──────────┼─────────────┼──────────────────┤\n",
            "│ [PAD]    │           0 │                0 │\n",
            "├──────────┼─────────────┼──────────────────┤\n",
            "│ [PAD]    │           0 │                0 │\n",
            "├──────────┼─────────────┼──────────────────┤\n",
            "│ [PAD]    │           0 │                0 │\n",
            "├──────────┼─────────────┼──────────────────┤\n",
            "│ [PAD]    │           0 │                0 │\n",
            "├──────────┼─────────────┼──────────────────┤\n",
            "│ [PAD]    │           0 │                0 │\n",
            "├──────────┼─────────────┼──────────────────┤\n",
            "│ [PAD]    │           0 │                0 │\n",
            "├──────────┼─────────────┼──────────────────┤\n",
            "│ [PAD]    │           0 │                0 │\n",
            "├──────────┼─────────────┼──────────────────┤\n",
            "│ [PAD]    │           0 │                0 │\n",
            "├──────────┼─────────────┼──────────────────┤\n",
            "│ [PAD]    │           0 │                0 │\n",
            "├──────────┼─────────────┼──────────────────┤\n",
            "│ [PAD]    │           0 │                0 │\n",
            "╘══════════╧═════════════╧══════════════════╛\n"
          ]
        }
      ]
    },
    {
      "cell_type": "code",
      "source": [
        "val_ratio = 0.2\n",
        "# Recommended batch size: 16, 32. See: https://arxiv.org/pdf/1810.04805.pdf\n",
        "batch_size = 32\n",
        "\n",
        "# Indices of the train and validation splits stratified by labels\n",
        "train_idx, val_idx =  train_test_split(\n",
        "    np.arange(len(labels)),\n",
        "    test_size=val_ratio,\n",
        "    stratify=labels\n",
        ")\n",
        "\n",
        "# Train and validation sets\n",
        "train_set = TensorDataset(token_id[train_idx], attention_masks[train_idx], labels[train_idx])\n",
        "\n",
        "val_set = TensorDataset(token_id[val_idx], attention_masks[val_idx], labels[val_idx])\n",
        "\n",
        "# Prepare DataLoader\n",
        "train_dataloader = DataLoader(train_set, sampler=RandomSampler(train_set), batch_size=batch_size)\n",
        "\n",
        "validation_dataloader = DataLoader(val_set, sampler=SequentialSampler(val_set), batch_size=batch_size)"
      ],
      "metadata": {
        "id": "mV_hOLim3X2S"
      },
      "execution_count": null,
      "outputs": []
    },
    {
      "cell_type": "code",
      "source": [
        "# Define a LoRA Layer which has A, B and alpha parameters\n",
        "class LoRALayer(torch.nn.Module):\n",
        "  def __init__(self, in_dim, out_dim, rank, alpha):\n",
        "    super().__init__()\n",
        "    # Initialize A to be a parameter matrix of dimension in_dim by rank\n",
        "    self.A = torch.nn.Parameter(torch.empty(in_dim, rank))\n",
        "    # Initialize all the elements of A via kaiming_uniform with a equal to sqrt(5)\n",
        "    torch.nn.init.kaiming_uniform_(self.A, a=math.sqrt(5))\n",
        "    # Initialize B to be a zero parameter matrix of the appropriate dimensions\n",
        "    self.B = torch.nn.Parameter(torch.zeros(rank, out_dim))\n",
        "    self.alpha = alpha\n",
        "\n",
        "  def forward(self, x):\n",
        "    # Pass x through the LoRA layer and return the new x\n",
        "    x = self.alpha * (x @ self.A @ self.B)\n",
        "    return x\n",
        "\n",
        "# Define a class LoRALinear which has a linear layer and a LoRA layer on top\n",
        "class LoRALinear(torch.nn.Module):\n",
        "  def __init__(self, linear, rank, alpha):\n",
        "    super().__init__()\n",
        "    self.linear = linear\n",
        "    self.lora = LoRALayer(linear.in_features, linear.out_features, rank, alpha)\n",
        "\n",
        "  def forward(self, x):\n",
        "    # Pass x through the linear layer and also the lora layer\n",
        "    return self.linear(x) + self.lora(x)\n",
        "\n",
        "def lora_linear_replace(model, rank, alpha):\n",
        "  # Use model.named_children to go through all layers and if the layer is Linear replace that layer with LoRALinear\n",
        "  for name, module in model.named_children():\n",
        "    # If the module is linear, replace the module in the model with a LoRA layer\n",
        "    if isinstance(module, torch.nn.Linear):\n",
        "      # Replace the Linear layer with LoRALinear\n",
        "      setattr(model, name, LoRALinear(module, rank, alpha))\n",
        "    else:\n",
        "      # Alterntively, recursively apply the same function to child modules so that other Linear layers get replaced\n",
        "      lora_linear_replace(module, rank, alpha)"
      ],
      "metadata": {
        "id": "t-gYj_kq3ZnC"
      },
      "execution_count": null,
      "outputs": []
    },
    {
      "cell_type": "code",
      "source": [
        "# Load the BertForSequenceClassification model\n",
        "# Do not ouput the attentions and all hidden states\n",
        "model = BertForSequenceClassification.from_pretrained(\"bert-base-uncased\", num_labels=2, output_attentions=False, output_hidden_states=False)\n",
        "\n",
        "# Turn off all gradients of the model to start\n",
        "for param in model.parameters():\n",
        "    param.requires_grad = False\n",
        "\n",
        "# Set to True if LORA is used; if False, fine_tune flag will be used to decide if you fine tune the entire model or just parts\n",
        "use_lora  = False\n",
        "# If this is False, turn off gradients\n",
        "fine_tune = True\n",
        "# Set total_parameters to 0; this will count the number of parameters in each case\n",
        "total_parameters = 0\n",
        "\n",
        "if use_lora:\n",
        "  # Use the lora_linear to attach a LoRA layer to each linear later of the original BERT model\n",
        "  lora_linear_replace(model, rank=8, alpha=8)\n",
        "  # Get the total number of parameters with gradients\n",
        "  total_parameters = sum(p.numel() for p in model.parameters() if p.requires_grad)\n",
        "else:\n",
        "  # If fine_tune is off, turn off gradients for all layers other than classifier\n",
        "  if not fine_tune:\n",
        "    # Turn off all gradients; count just the 'classifier' layer which is the only one that has gradients\n",
        "    for name, param in model.named_parameters():\n",
        "      if \"classifier\" in name:\n",
        "        param.requires_grad = True\n",
        "        total_parameters += param.numel()\n",
        "      else:\n",
        "        param.requires_grad = False\n",
        "  else:\n",
        "    # Turn off all gradients except for classifier\n",
        "    for param in model.parameters():\n",
        "      param.requires_grad = True\n",
        "      total_parameters += param.numel()\n",
        "\n",
        "print(total_parameters)\n",
        "\n",
        "if use_lora:\n",
        "  assert(total_parameters == 1345552)\n",
        "else:\n",
        "  if fine_tune:\n",
        "    assert(total_parameters == 109483778)\n",
        "  else:\n",
        "    assert(total_parameters == 1538)"
      ],
      "metadata": {
        "colab": {
          "base_uri": "https://localhost:8080/"
        },
        "id": "4hgYNyuT3bFK",
        "outputId": "c2e966ab-b9ba-4d4d-cdac-3f2e5650cb4a"
      },
      "execution_count": null,
      "outputs": [
        {
          "output_type": "stream",
          "name": "stderr",
          "text": [
            "Some weights of BertForSequenceClassification were not initialized from the model checkpoint at bert-base-uncased and are newly initialized: ['classifier.bias', 'classifier.weight']\n",
            "You should probably TRAIN this model on a down-stream task to be able to use it for predictions and inference.\n"
          ]
        },
        {
          "output_type": "stream",
          "name": "stdout",
          "text": [
            "109483778\n"
          ]
        }
      ]
    },
    {
      "cell_type": "code",
      "source": [
        "import platform\n",
        "\n",
        "# Pick the system you have and select GPU if you can\n",
        "if platform.system() == 'Darwin':\n",
        "    device = torch.device('mps') if torch.backends.mps.is_available() else torch.device('cpu')\n",
        "elif platform.system() == 'Linux':\n",
        "    device = torch.device('cuda') if torch.cuda.is_available() else torch.device('cpu')\n",
        "else:\n",
        "    device = torch.device('cpu')\n",
        "print(device)"
      ],
      "metadata": {
        "colab": {
          "base_uri": "https://localhost:8080/"
        },
        "id": "A96dmsIM3eQa",
        "outputId": "35dda356-1fd1-49b0-ad0b-ade282ef14bd"
      },
      "execution_count": null,
      "outputs": [
        {
          "output_type": "stream",
          "name": "stdout",
          "text": [
            "cuda\n"
          ]
        }
      ]
    },
    {
      "cell_type": "code",
      "source": [
        "_ = model.to(device)\n",
        "\n",
        "# Recommended number of epochs: See: https://arxiv.org/pdf/1810.04805.pdf\n",
        "epochs = 2"
      ],
      "metadata": {
        "id": "FIgWzE073fsW"
      },
      "execution_count": null,
      "outputs": []
    },
    {
      "cell_type": "code",
      "source": [
        "# Recommended learning rates (Adam): 5e-5, 3e-5, 2e-5\n",
        "# See: https://arxiv.org/pdf/1810.04805.pdf\n",
        "optimizer = torch.optim.AdamW(\n",
        "    model.parameters(),\n",
        "    lr = 5e-5,\n",
        "    eps = 1e-08\n",
        ")"
      ],
      "metadata": {
        "id": "BeDHUiik3hMi"
      },
      "execution_count": null,
      "outputs": []
    },
    {
      "cell_type": "code",
      "source": [
        "# Use torchmetrics to set up accuracy, recall, precision, and auroc\n",
        "accuracy = Accuracy(task=\"binary\", num_classes=2).to(device)\n",
        "recall = Recall(task=\"binary\").to(device)\n",
        "precision = Precision(task=\"binary\").to(device)\n",
        "auroc = AUROC(task=\"binary\").to(device)"
      ],
      "metadata": {
        "id": "HvBE1nN53h7Y"
      },
      "execution_count": null,
      "outputs": []
    },
    {
      "cell_type": "code",
      "source": [
        "model.device"
      ],
      "metadata": {
        "colab": {
          "base_uri": "https://localhost:8080/"
        },
        "id": "OTm8mE3V3jVk",
        "outputId": "8cd9d4e5-9432-47c1-8235-28befbcb3699"
      },
      "execution_count": null,
      "outputs": [
        {
          "output_type": "execute_result",
          "data": {
            "text/plain": [
              "device(type='cuda', index=0)"
            ]
          },
          "metadata": {},
          "execution_count": 402
        }
      ]
    },
    {
      "cell_type": "code",
      "source": [
        "# Main training / validation loop\n",
        "import tqdm\n",
        "for _ in tqdm.tqdm(trange(epochs, desc = 'Epoch')):\n",
        "\n",
        "    # ========== Training ==========\n",
        "\n",
        "    # Set model to training mode\n",
        "    model.train()\n",
        "\n",
        "    # Tracking variables\n",
        "    tr_loss = 0\n",
        "    nb_tr_examples, nb_tr_steps = 0, 0\n",
        "\n",
        "    for step, batch in tqdm.tqdm(enumerate(train_dataloader)):\n",
        "        batch = tuple(t.to(device) for t in batch)\n",
        "        # Unpack the batch\n",
        "        b_input_ids, b_input_mask, b_labels = batch\n",
        "\n",
        "        # Set the gradients to zero\n",
        "        optimizer.zero_grad()\n",
        "\n",
        "        # Forward pass\n",
        "        outputs = model(b_input_ids, token_type_ids=None, attention_mask=b_input_mask, labels=b_labels)\n",
        "\n",
        "        # Backward pass\n",
        "        loss = outputs.loss\n",
        "        loss.backward()\n",
        "        optimizer.step()\n",
        "\n",
        "        # Update tracking variables\n",
        "        tr_loss += loss.item()\n",
        "        nb_tr_examples += b_input_ids.size(0)\n",
        "        nb_tr_steps += 1\n",
        "\n",
        "    # ========== Validation ==========\n",
        "\n",
        "    # Set model to evaluation mode\n",
        "    model.eval()\n",
        "\n",
        "    # Tracking variables\n",
        "    val_accuracy = []\n",
        "    val_precision = []\n",
        "    val_recall = []\n",
        "    val_auroc = []\n",
        "\n",
        "    for batch in validation_dataloader:\n",
        "        batch = tuple(t.to(device) for t in batch)\n",
        "        b_input_ids, b_input_mask, b_labels = batch\n",
        "        with torch.no_grad():\n",
        "          # Forward pass\n",
        "            eval_output = model(b_input_ids, token_type_ids=None, attention_mask=b_input_mask)\n",
        "\n",
        "        # Calculate validation metrics\n",
        "        logits = eval_output.logits\n",
        "        labels = b_labels\n",
        "        predicted_labels = torch.argmax(logits, dim=1)\n",
        "\n",
        "        val_accuracy.append(accuracy(predicted_labels, labels).item())\n",
        "        val_recall.append(recall(predicted_labels, labels).item())\n",
        "        val_precision.append(precision(predicted_labels, labels).item())\n",
        "        val_auroc.append(auroc(logits.softmax(dim=1)[:, 1], labels).item())\n",
        "\n",
        "    print('\\n\\t - Train loss: {:.4f}'.format(tr_loss / nb_tr_steps))\n",
        "    print('\\t - Validation Accuracy: {:.4f}'.format(sum(val_accuracy)/len(val_accuracy)))\n",
        "    print('\\t - Validation Precision: {:.4f}'.format(sum(val_precision)/len(val_precision)))\n",
        "    print('\\t - Validation Recall: {:.4f}'.format(sum(val_recall)/len(val_recall)))\n",
        "    print('\\t - Validation AUROC: {:.4f}\\n'.format(sum(val_auroc)/len(val_auroc)))"
      ],
      "metadata": {
        "colab": {
          "base_uri": "https://localhost:8080/"
        },
        "id": "JOFpAfuo3jd6",
        "outputId": "d548cb29-10ea-498a-b72d-a6b272c5de65"
      },
      "execution_count": null,
      "outputs": [
        {
          "output_type": "stream",
          "name": "stderr",
          "text": [
            "Epoch:   0%|          | 0/2 [00:00<?, ?it/s]\n",
            "  0%|          | 0/2 [00:00<?, ?it/s]\u001b[A\n",
            "\n",
            "0it [00:00, ?it/s]\u001b[A\u001b[A\n",
            "\n",
            "1it [00:00,  4.08it/s]\u001b[A\u001b[A\n",
            "\n",
            "2it [00:00,  4.52it/s]\u001b[A\u001b[A\n",
            "\n",
            "3it [00:00,  4.52it/s]\u001b[A\u001b[A\n",
            "\n",
            "4it [00:00,  4.80it/s]\u001b[A\u001b[A\n",
            "\n",
            "5it [00:01,  4.93it/s]\u001b[A\u001b[A\n",
            "\n",
            "6it [00:01,  5.05it/s]\u001b[A\u001b[A\n",
            "\n",
            "7it [00:01,  5.06it/s]\u001b[A\u001b[A\n",
            "\n",
            "8it [00:01,  5.06it/s]\u001b[A\u001b[A\n",
            "\n",
            "9it [00:01,  5.07it/s]\u001b[A\u001b[A\n",
            "\n",
            "10it [00:02,  5.10it/s]\u001b[A\u001b[A\n",
            "\n",
            "11it [00:02,  5.12it/s]\u001b[A\u001b[A\n",
            "\n",
            "12it [00:02,  5.12it/s]\u001b[A\u001b[A\n",
            "\n",
            "13it [00:02,  5.15it/s]\u001b[A\u001b[A\n",
            "\n",
            "14it [00:02,  5.13it/s]\u001b[A\u001b[A\n",
            "\n",
            "15it [00:03,  5.15it/s]\u001b[A\u001b[A\n",
            "\n",
            "16it [00:03,  5.16it/s]\u001b[A\u001b[A\n",
            "\n",
            "17it [00:03,  5.17it/s]\u001b[A\u001b[A\n",
            "\n",
            "18it [00:03,  5.18it/s]\u001b[A\u001b[A\n",
            "\n",
            "19it [00:03,  5.20it/s]\u001b[A\u001b[A\n",
            "\n",
            "20it [00:03,  5.17it/s]\u001b[A\u001b[A\n",
            "\n",
            "21it [00:04,  5.13it/s]\u001b[A\u001b[A\n",
            "\n",
            "22it [00:04,  5.14it/s]\u001b[A\u001b[A\n",
            "\n",
            "23it [00:04,  5.14it/s]\u001b[A\u001b[A\n",
            "\n",
            "24it [00:04,  5.15it/s]\u001b[A\u001b[A\n",
            "\n",
            "25it [00:04,  5.16it/s]\u001b[A\u001b[A\n",
            "\n",
            "26it [00:05,  5.41it/s]\u001b[A\u001b[A\n",
            "\n",
            "27it [00:05,  5.24it/s]\u001b[A\u001b[A\n",
            "\n",
            "28it [00:05,  5.11it/s]\u001b[A\u001b[A\n",
            "\n",
            "29it [00:05,  5.14it/s]\u001b[A\u001b[A\n",
            "\n",
            "30it [00:05,  5.14it/s]\u001b[A\u001b[A\n",
            "\n",
            "31it [00:06,  5.16it/s]\u001b[A\u001b[A\n",
            "\n",
            "32it [00:06,  5.15it/s]\u001b[A\u001b[A\n",
            "\n",
            "33it [00:06,  5.08it/s]\u001b[A\u001b[A\n",
            "\n",
            "34it [00:06,  5.05it/s]\u001b[A\u001b[A\n",
            "\n",
            "35it [00:06,  4.95it/s]\u001b[A\u001b[A\n",
            "\n",
            "36it [00:07,  4.95it/s]\u001b[A\u001b[A\n",
            "\n",
            "37it [00:07,  4.98it/s]\u001b[A\u001b[A\n",
            "\n",
            "38it [00:07,  4.92it/s]\u001b[A\u001b[A\n",
            "\n",
            "39it [00:07,  4.97it/s]\u001b[A\u001b[A\n",
            "\n",
            "40it [00:07,  5.03it/s]\u001b[A\u001b[A\n",
            "\n",
            "41it [00:08,  4.97it/s]\u001b[A\u001b[A\n",
            "\n",
            "42it [00:08,  4.94it/s]\u001b[A\u001b[A\n",
            "\n",
            "43it [00:08,  4.89it/s]\u001b[A\u001b[A\n",
            "\n",
            "44it [00:08,  4.95it/s]\u001b[A\u001b[A\n",
            "\n",
            "45it [00:08,  4.91it/s]\u001b[A\u001b[A\n",
            "\n",
            "46it [00:09,  4.83it/s]\u001b[A\u001b[A\n",
            "\n",
            "47it [00:09,  4.67it/s]\u001b[A\u001b[A\n",
            "\n",
            "48it [00:09,  4.36it/s]\u001b[A\u001b[A\n",
            "\n",
            "49it [00:09,  4.35it/s]\u001b[A\u001b[A\n",
            "\n",
            "50it [00:10,  4.41it/s]\u001b[A\u001b[A\n",
            "\n",
            "51it [00:10,  4.44it/s]\u001b[A\u001b[A\n",
            "\n",
            "52it [00:10,  4.31it/s]\u001b[A\u001b[A\n",
            "\n",
            "53it [00:10,  4.51it/s]\u001b[A\u001b[A\n",
            "\n",
            "54it [00:11,  4.33it/s]\u001b[A\u001b[A\n",
            "\n",
            "55it [00:11,  4.34it/s]\u001b[A\u001b[A\n",
            "\n",
            "56it [00:11,  4.46it/s]\u001b[A\u001b[A\n",
            "\n",
            "57it [00:11,  4.38it/s]\u001b[A\u001b[A\n",
            "\n",
            "58it [00:11,  4.27it/s]\u001b[A\u001b[A\n",
            "\n",
            "59it [00:12,  4.34it/s]\u001b[A\u001b[A\n",
            "\n",
            "60it [00:12,  4.57it/s]\u001b[A\u001b[A\n",
            "\n",
            "61it [00:12,  4.72it/s]\u001b[A\u001b[A\n",
            "\n",
            "62it [00:12,  4.77it/s]\u001b[A\u001b[A\n",
            "\n",
            "63it [00:12,  4.74it/s]\u001b[A\u001b[A\n",
            "\n",
            "64it [00:13,  4.83it/s]\u001b[A\u001b[A\n",
            "\n",
            "65it [00:13,  4.89it/s]\u001b[A\u001b[A\n",
            "\n",
            "66it [00:13,  4.92it/s]\u001b[A\u001b[A\n",
            "\n",
            "67it [00:13,  4.97it/s]\u001b[A\u001b[A\n",
            "\n",
            "68it [00:13,  5.01it/s]\u001b[A\u001b[A\n",
            "\n",
            "69it [00:14,  5.07it/s]\u001b[A\u001b[A\n",
            "\n",
            "70it [00:14,  5.10it/s]\u001b[A\u001b[A\n",
            "\n",
            "71it [00:14,  5.13it/s]\u001b[A\u001b[A\n",
            "\n",
            "72it [00:14,  5.13it/s]\u001b[A\u001b[A\n",
            "\n",
            "73it [00:14,  5.13it/s]\u001b[A\u001b[A\n",
            "\n",
            "74it [00:15,  4.92it/s]\n",
            "\n",
            "Epoch:  50%|█████     | 1/2 [00:16<00:16, 16.18s/it]"
          ]
        },
        {
          "output_type": "stream",
          "name": "stdout",
          "text": [
            "\n",
            "\t - Train loss: 0.3011\n",
            "\t - Validation Accuracy: 0.9038\n",
            "\t - Validation Precision: 0.7737\n",
            "\t - Validation Recall: 0.7197\n",
            "\t - Validation AUROC: 0.9251\n",
            "\n"
          ]
        },
        {
          "output_type": "stream",
          "name": "stderr",
          "text": [
            "\n",
            "\n",
            "0it [00:00, ?it/s]\u001b[A\u001b[A\n",
            "\n",
            "1it [00:00,  5.33it/s]\u001b[A\u001b[A\n",
            "\n",
            "2it [00:00,  5.24it/s]\u001b[A\u001b[A\n",
            "\n",
            "3it [00:00,  5.21it/s]\u001b[A\u001b[A\n",
            "\n",
            "4it [00:00,  5.21it/s]\u001b[A\u001b[A\n",
            "\n",
            "5it [00:00,  5.16it/s]\u001b[A\u001b[A\n",
            "\n",
            "6it [00:01,  5.12it/s]\u001b[A\u001b[A\n",
            "\n",
            "7it [00:01,  5.11it/s]\u001b[A\u001b[A\n",
            "\n",
            "8it [00:01,  5.41it/s]\u001b[A\u001b[A\n",
            "\n",
            "9it [00:01,  5.22it/s]\u001b[A\u001b[A\n",
            "\n",
            "10it [00:01,  5.19it/s]\u001b[A\u001b[A\n",
            "\n",
            "11it [00:02,  5.15it/s]\u001b[A\u001b[A\n",
            "\n",
            "12it [00:02,  5.14it/s]\u001b[A\u001b[A\n",
            "\n",
            "13it [00:02,  5.13it/s]\u001b[A\u001b[A\n",
            "\n",
            "14it [00:02,  5.12it/s]\u001b[A\u001b[A\n",
            "\n",
            "15it [00:02,  5.14it/s]\u001b[A\u001b[A\n",
            "\n",
            "16it [00:03,  5.12it/s]\u001b[A\u001b[A\n",
            "\n",
            "17it [00:03,  5.11it/s]\u001b[A\u001b[A\n",
            "\n",
            "18it [00:03,  5.11it/s]\u001b[A\u001b[A\n",
            "\n",
            "19it [00:03,  5.11it/s]\u001b[A\u001b[A\n",
            "\n",
            "20it [00:03,  5.11it/s]\u001b[A\u001b[A\n",
            "\n",
            "21it [00:04,  5.11it/s]\u001b[A\u001b[A\n",
            "\n",
            "22it [00:04,  5.08it/s]\u001b[A\u001b[A\n",
            "\n",
            "23it [00:04,  5.06it/s]\u001b[A\u001b[A\n",
            "\n",
            "24it [00:04,  5.05it/s]\u001b[A\u001b[A\n",
            "\n",
            "25it [00:04,  5.07it/s]\u001b[A\u001b[A\n",
            "\n",
            "26it [00:05,  5.08it/s]\u001b[A\u001b[A\n",
            "\n",
            "27it [00:05,  5.09it/s]\u001b[A\u001b[A\n",
            "\n",
            "28it [00:05,  5.09it/s]\u001b[A\u001b[A\n",
            "\n",
            "29it [00:05,  5.08it/s]\u001b[A\u001b[A\n",
            "\n",
            "30it [00:05,  5.09it/s]\u001b[A\u001b[A\n",
            "\n",
            "31it [00:06,  5.09it/s]\u001b[A\u001b[A\n",
            "\n",
            "32it [00:06,  5.06it/s]\u001b[A\u001b[A\n",
            "\n",
            "33it [00:06,  5.01it/s]\u001b[A\u001b[A\n",
            "\n",
            "34it [00:06,  5.01it/s]\u001b[A\u001b[A\n",
            "\n",
            "35it [00:06,  5.02it/s]\u001b[A\u001b[A\n",
            "\n",
            "36it [00:07,  5.02it/s]\u001b[A\u001b[A\n",
            "\n",
            "37it [00:07,  5.02it/s]\u001b[A\u001b[A\n",
            "\n",
            "38it [00:07,  5.03it/s]\u001b[A\u001b[A\n",
            "\n",
            "39it [00:07,  5.03it/s]\u001b[A\u001b[A\n",
            "\n",
            "40it [00:07,  5.00it/s]\u001b[A\u001b[A\n",
            "\n",
            "41it [00:08,  4.99it/s]\u001b[A\u001b[A\n",
            "\n",
            "42it [00:08,  4.97it/s]\u001b[A\u001b[A\n",
            "\n",
            "43it [00:08,  5.00it/s]\u001b[A\u001b[A\n",
            "\n",
            "44it [00:08,  4.98it/s]\u001b[A\u001b[A\n",
            "\n",
            "45it [00:08,  4.96it/s]\u001b[A\u001b[A\n",
            "\n",
            "46it [00:09,  4.96it/s]\u001b[A\u001b[A\n",
            "\n",
            "47it [00:09,  4.95it/s]\u001b[A\u001b[A\n",
            "\n",
            "48it [00:09,  4.97it/s]\u001b[A\u001b[A\n",
            "\n",
            "49it [00:09,  5.00it/s]\u001b[A\u001b[A\n",
            "\n",
            "50it [00:09,  5.00it/s]\u001b[A\u001b[A\n",
            "\n",
            "51it [00:10,  5.01it/s]\u001b[A\u001b[A\n",
            "\n",
            "52it [00:10,  5.01it/s]\u001b[A\u001b[A\n",
            "\n",
            "53it [00:10,  5.02it/s]\u001b[A\u001b[A\n",
            "\n",
            "54it [00:10,  5.01it/s]\u001b[A\u001b[A\n",
            "\n",
            "55it [00:10,  5.01it/s]\u001b[A\u001b[A\n",
            "\n",
            "56it [00:11,  4.99it/s]\u001b[A\u001b[A\n",
            "\n",
            "57it [00:11,  5.04it/s]\u001b[A\u001b[A\n",
            "\n",
            "58it [00:11,  5.02it/s]\u001b[A\u001b[A\n",
            "\n",
            "59it [00:11,  5.01it/s]\u001b[A\u001b[A\n",
            "\n",
            "60it [00:11,  5.01it/s]\u001b[A\u001b[A\n",
            "\n",
            "61it [00:12,  5.00it/s]\u001b[A\u001b[A\n",
            "\n",
            "62it [00:12,  4.98it/s]\u001b[A\u001b[A\n",
            "\n",
            "63it [00:12,  4.99it/s]\u001b[A\u001b[A\n",
            "\n",
            "64it [00:12,  5.00it/s]\u001b[A\u001b[A\n",
            "\n",
            "65it [00:12,  5.00it/s]\u001b[A\u001b[A\n",
            "\n",
            "66it [00:13,  5.00it/s]\u001b[A\u001b[A\n",
            "\n",
            "67it [00:13,  4.99it/s]\u001b[A\u001b[A\n",
            "\n",
            "68it [00:13,  5.00it/s]\u001b[A\u001b[A\n",
            "\n",
            "69it [00:13,  4.99it/s]\u001b[A\u001b[A\n",
            "\n",
            "70it [00:13,  4.99it/s]\u001b[A\u001b[A\n",
            "\n",
            "71it [00:14,  5.00it/s]\u001b[A\u001b[A\n",
            "\n",
            "72it [00:14,  5.01it/s]\u001b[A\u001b[A\n",
            "\n",
            "73it [00:14,  5.00it/s]\u001b[A\u001b[A\n",
            "\n",
            "74it [00:14,  5.07it/s]\n",
            "\n",
            "Epoch: 100%|██████████| 2/2 [00:31<00:00, 15.96s/it]\n",
            "100%|██████████| 2/2 [00:31<00:00, 15.95s/it]"
          ]
        },
        {
          "output_type": "stream",
          "name": "stdout",
          "text": [
            "\n",
            "\t - Train loss: 0.1804\n",
            "\t - Validation Accuracy: 0.8956\n",
            "\t - Validation Precision: 0.6977\n",
            "\t - Validation Recall: 0.8552\n",
            "\t - Validation AUROC: 0.9417\n",
            "\n"
          ]
        },
        {
          "output_type": "stream",
          "name": "stderr",
          "text": [
            "\n"
          ]
        }
      ]
    },
    {
      "cell_type": "code",
      "source": [
        "import matplotlib.pyplot as plt\n",
        "epochs = range(1, len(val_accuracy) + 1)\n",
        "\n",
        "plt.figure(figsize=(10, 6))\n",
        "\n",
        "# Plot each metric\n",
        "plt.plot(epochs, val_accuracy, label=\"Validation Accuracy\", color='b', marker='o')\n",
        "plt.plot(epochs, val_recall, label=\"Validation Recall\", color='g', marker='x')\n",
        "plt.plot(epochs, val_precision, label=\"Validation Precision\", color='r', marker='s')\n",
        "plt.plot(epochs, val_auroc, label=\"Validation AUROC\", color='purple', marker='^')\n",
        "\n",
        "# Add labels and title\n",
        "plt.xlabel('Batches')\n",
        "plt.ylabel('Metric Value')\n",
        "plt.title('BERT Full Fine-Tuning Validation Metrics over Epochs')\n",
        "\n",
        "# Add a legend\n",
        "plt.legend()\n",
        "\n",
        "# Display the plot\n",
        "plt.grid(True)\n",
        "plt.tight_layout()\n",
        "plt.show()"
      ],
      "metadata": {
        "colab": {
          "base_uri": "https://localhost:8080/",
          "height": 607
        },
        "id": "pYpzv_uM6Rdm",
        "outputId": "fd47d78e-78f1-4012-de89-3bbcbd9450ca"
      },
      "execution_count": null,
      "outputs": [
        {
          "output_type": "display_data",
          "data": {
            "text/plain": [
              "<Figure size 1000x600 with 1 Axes>"
            ],
            "image/png": "[encoded data removed]"
          },
          "metadata": {}
        }
      ]
    },
    {
      "cell_type": "code",
      "source": [
        "new_sentence = 'unbelievable how shit some people in this game are.\t'\n",
        "\n",
        "# We need Token IDs and Attention Mask for inference on the new sentence\n",
        "test_ids = []\n",
        "test_attention_mask = []\n",
        "\n",
        "# Apply the tokenizer\n",
        "encoding = preprocessing(new_sentence, tokenizer)\n",
        "\n",
        "# Extract IDs and Attention Mask\n",
        "test_ids.append(encoding['input_ids'])\n",
        "test_attention_mask.append(encoding['attention_mask'])\n",
        "test_ids = torch.cat(test_ids, dim = 0)\n",
        "test_attention_mask = torch.cat(test_attention_mask, dim = 0)\n",
        "\n",
        "# Forward pass, calculate logit predictions\n",
        "with torch.no_grad():\n",
        "    output = model(test_ids.to(device), token_type_ids = None, attention_mask = test_attention_mask.to(device))\n",
        "\n",
        "prediction = 'Toxic' if np.argmax(output.logits.cpu().numpy()).flatten().item() == 1 else 'Not Toxic'\n",
        "\n",
        "print('Input Sentence: ', new_sentence)\n",
        "print('Predicted Class: ', prediction)"
      ],
      "metadata": {
        "colab": {
          "base_uri": "https://localhost:8080/"
        },
        "id": "YJrSKyTI3kK1",
        "outputId": "68a8cbcb-6e0e-4dad-88e5-a4a495e8b78b"
      },
      "execution_count": null,
      "outputs": [
        {
          "output_type": "stream",
          "name": "stdout",
          "text": [
            "Input Sentence:  unbelievable how shit some people in this game are.\t\n",
            "Predicted Class:  Toxic\n"
          ]
        }
      ]
    },
    {
      "cell_type": "markdown",
      "source": [
        "**BERT No Fine-Tuning**\n",
        "\n",
        "Epoch 1:\n",
        "- Train loss: 0.5957\n",
        "- Validation Accuracy: 0.8062\n",
        "- Validation Precision: 0.0000\n",
        "- Validation Recall: 0.0000\n",
        "- Validation AUROC: 0.6411\n",
        "\n",
        "Epoch 2:\n",
        "- Train loss: 0.4895\n",
        "- Validation Accuracy: 0.8062\n",
        "- Validation Precision: 0.0000\n",
        "- Validation Recall: 0.0000\n",
        "- Validation AUROC: 0.6519\n",
        "\n",
        "Incorrect Identification\n",
        "\n",
        "Input Sentence:  unbelievable how shit some people in this game are.\n",
        "Predicted Class:  Not Toxic"
      ],
      "metadata": {
        "id": "qm5nM_EB67_N"
      }
    },
    {
      "cell_type": "markdown",
      "source": [
        "**BERT Full Fine-Tuning**\n",
        "\n",
        "Epoch 1:\n",
        "- Train loss: 0.3613\n",
        "- Validation Accuracy: 0.9122\n",
        "- Validation Precision: 0.7321\n",
        "- Validation Recall: 0.8720\n",
        "- Validation AUROC: 0.9425\n",
        "\n",
        "Epoch 2:\n",
        "- Train loss: 0.1981\n",
        "- Validation Accuracy: 0.9089\n",
        "- Validation Precision: 0.7179\n",
        "- Validation Recall: 0.8458\n",
        "- Validation AUROC: 0.9511\n",
        "\n",
        "Correct Identification\n",
        "\n",
        "Input Sentence:  unbelievable how shit some people in this game are.\n",
        "Predicted Class:  Toxic"
      ],
      "metadata": {
        "id": "2iKDNv4W6-40"
      }
    },
    {
      "cell_type": "markdown",
      "source": [
        "**BERT LoRA Fine-Tuning**\n",
        "\n",
        "Epoch 1:\n",
        "- Train loss: 0.3156\n",
        "- Validation Accuracy: 0.9089\n",
        "- Validation Precision: 0.7179\n",
        "- Validation Recall: 0.8768\n",
        "- Validation AUROC: 0.9479\n",
        "\n",
        "Epoch 2:\n",
        "- Train loss: 0.1944\n",
        "- Validation Accuracy: 0.9073\n",
        "- Validation Precision: 0.7036\n",
        "- Validation Recall: 0.8922\n",
        "- Validation AUROC: 0.9616\n",
        "\n",
        "Correct Identification\n",
        "Input Sentence:  unbelievable how shit some people in this game are.\n",
        "Predicted Class:  Toxic"
      ],
      "metadata": {
        "id": "6HgXg1dB7B41"
      }
    }
  ]
}